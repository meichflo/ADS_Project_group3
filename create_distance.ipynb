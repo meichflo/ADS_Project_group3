{
 "cells": [
  {
   "cell_type": "markdown",
   "metadata": {},
   "source": [
    "# Intenssion:\n",
    "ML-Models need numbers to work with. The webscraping does not provide enough data/features. We build some features by our own. \n",
    "\n",
    "1. built feature is the distance to the next train station\n",
    "---\n",
    "- **input**: address\n",
    "- **output**: distance in meters\n"
   ]
  },
  {
   "cell_type": "code",
   "execution_count": 2,
   "metadata": {},
   "outputs": [],
   "source": [
    "# Libraries\n",
    "import os\n",
    "import json\n",
    "import urllib\n",
    "import requests\n",
    "import pandas as pd\n",
    "from math import radians, cos, sin, sqrt, atan2\n",
    "\n"
   ]
  },
  {
   "cell_type": "code",
   "execution_count": 3,
   "metadata": {},
   "outputs": [],
   "source": [
    "address = \"8400 Winterthur, Theaterstrasse 17.1\"\n",
    "#address = input(\"Enter the address: \")"
   ]
  },
  {
   "cell_type": "code",
   "execution_count": 4,
   "metadata": {},
   "outputs": [
    {
     "name": "stdout",
     "output_type": "stream",
     "text": [
      "https://api3.geo.admin.ch/rest/services/api/SearchServer?searchText=8400+Winterthur%2C+Theaterstrasse+17.1&origins=address&type=locations\n"
     ]
    }
   ],
   "source": [
    "# Define base url for address search\n",
    "base_url= \"https://api3.geo.admin.ch/rest/services/api/SearchServer?\"\n",
    "\n",
    "# Set up search parameters: address, origins and type\n",
    "parameters = {\"searchText\": address,\n",
    "              \"origins\": \"address\",\n",
    "              \"type\": \"locations\",\n",
    "             }\n",
    "\n",
    "# Urllib.parse.urlencode turns parameters into url\n",
    "print(f\"{base_url}{urllib.parse.urlencode(parameters)}\")"
   ]
  },
  {
   "cell_type": "code",
   "execution_count": 72,
   "metadata": {},
   "outputs": [
    {
     "data": {
      "text/plain": [
       "{'error': {'code': 400,\n",
       "  'message': 'Please provide a type parameter. Possible values are locations, layers, featuresearch'},\n",
       " 'success': False}"
      ]
     },
     "execution_count": 72,
     "metadata": {},
     "output_type": "execute_result"
    }
   ],
   "source": [
    "parameters = {\"searchText\": address,\n",
    "              \"origins\": \"address\",\n",
    "              \"type\": \"locations\",\n",
    "             }\n",
    "response = requests.get(f\"{base_url}\", params=parameters)\n",
    "response.json()"
   ]
  },
  {
   "cell_type": "code",
   "execution_count": 5,
   "metadata": {},
   "outputs": [
    {
     "data": {
      "text/plain": [
       "{'results': [{'attrs': {'detail': 'theaterstrasse 17.1 8400 winterthur 230 winterthur ch zh',\n",
       "    'featureId': '201032451_0',\n",
       "    'geom_quadindex': '030010211112102121200',\n",
       "    'geom_st_box2d': 'BOX(697167.118926371 262226.7588384855,697167.118926371 262226.7588384855)',\n",
       "    'label': 'Theaterstrasse 17.1 <b>8400 Winterthur</b>',\n",
       "    'lat': 47.50360870361328,\n",
       "    'lon': 8.728364944458008,\n",
       "    'num': 171,\n",
       "    'objectclass': '',\n",
       "    'origin': 'address',\n",
       "    'rank': 7,\n",
       "    'x': 262226.75,\n",
       "    'y': 697167.125,\n",
       "    'zoomlevel': 10},\n",
       "   'id': 1573119,\n",
       "   'weight': 4},\n",
       "  {'attrs': {'detail': 'theaterstrasse 17 8400 winterthur 230 winterthur ch zh',\n",
       "    'featureId': '2323240_0',\n",
       "    'geom_quadindex': '030010211112013212300',\n",
       "    'geom_st_box2d': 'BOX(697128.5668860576 262216.11449080077,697128.5668860576 262216.11449080077)',\n",
       "    'label': 'Theaterstrasse 17 <b>8400 Winterthur</b>',\n",
       "    'lat': 47.503517150878906,\n",
       "    'lon': 8.727851867675781,\n",
       "    'num': 17,\n",
       "    'objectclass': '',\n",
       "    'origin': 'address',\n",
       "    'rank': 7,\n",
       "    'x': 262216.125,\n",
       "    'y': 697128.5625,\n",
       "    'zoomlevel': 10},\n",
       "   'id': 825032,\n",
       "   'weight': 1}]}"
      ]
     },
     "execution_count": 5,
     "metadata": {},
     "output_type": "execute_result"
    }
   ],
   "source": [
    "# Server request\n",
    "r = requests.get(f\"{base_url}{urllib.parse.urlencode(parameters)}\")\n",
    "\n",
    "# Get data in json-format\n",
    "data = json.loads(r.content)\n",
    "data\n",
    "# can return several results, so we need to select the first one. It is the one closer to the input address. try: \"8400 Winterthur, Theaterstrasse 17.1\" vs \"8400 Winterthur, Theaterstrasse 17\""
   ]
  },
  {
   "cell_type": "code",
   "execution_count": 6,
   "metadata": {},
   "outputs": [
    {
     "data": {
      "text/plain": [
       "{'attrs': {'detail': 'theaterstrasse 17.1 8400 winterthur 230 winterthur ch zh',\n",
       "  'featureId': '201032451_0',\n",
       "  'geom_quadindex': '030010211112102121200',\n",
       "  'geom_st_box2d': 'BOX(697167.118926371 262226.7588384855,697167.118926371 262226.7588384855)',\n",
       "  'label': 'Theaterstrasse 17.1 <b>8400 Winterthur</b>',\n",
       "  'lat': 47.50360870361328,\n",
       "  'lon': 8.728364944458008,\n",
       "  'num': 171,\n",
       "  'objectclass': '',\n",
       "  'origin': 'address',\n",
       "  'rank': 7,\n",
       "  'x': 262226.75,\n",
       "  'y': 697167.125,\n",
       "  'zoomlevel': 10},\n",
       " 'id': 1573119,\n",
       " 'weight': 4}"
      ]
     },
     "execution_count": 6,
     "metadata": {},
     "output_type": "execute_result"
    }
   ],
   "source": [
    "data['results'][0]"
   ]
  },
  {
   "cell_type": "code",
   "execution_count": 7,
   "metadata": {},
   "outputs": [
    {
     "data": {
      "text/plain": [
       "47.50360870361328"
      ]
     },
     "execution_count": 7,
     "metadata": {},
     "output_type": "execute_result"
    }
   ],
   "source": [
    "Latitude = data['results'][0]['attrs']['lat']\n",
    "Latitude"
   ]
  },
  {
   "cell_type": "code",
   "execution_count": 8,
   "metadata": {},
   "outputs": [
    {
     "data": {
      "text/plain": [
       "8.728364944458008"
      ]
     },
     "execution_count": 8,
     "metadata": {},
     "output_type": "execute_result"
    }
   ],
   "source": [
    "Longitude = data['results'][0]['attrs']['lon']\n",
    "Longitude"
   ]
  },
  {
   "cell_type": "code",
   "execution_count": 6,
   "metadata": {},
   "outputs": [
    {
     "ename": "KeyError",
     "evalue": "'fuzzy'",
     "output_type": "error",
     "traceback": [
      "\u001b[1;31m---------------------------------------------------------------------------\u001b[0m",
      "\u001b[1;31mKeyError\u001b[0m                                  Traceback (most recent call last)",
      "Cell \u001b[1;32mIn[6], line 16\u001b[0m\n\u001b[0;32m     13\u001b[0m     Longitude \u001b[38;5;241m=\u001b[39m data[\u001b[38;5;124m'\u001b[39m\u001b[38;5;124mresults\u001b[39m\u001b[38;5;124m'\u001b[39m][\u001b[38;5;241m0\u001b[39m][\u001b[38;5;124m'\u001b[39m\u001b[38;5;124mattrs\u001b[39m\u001b[38;5;124m'\u001b[39m][\u001b[38;5;124m'\u001b[39m\u001b[38;5;124mlon\u001b[39m\u001b[38;5;124m'\u001b[39m]\n\u001b[0;32m     14\u001b[0m     \u001b[38;5;28;01mreturn\u001b[39;00m Latitude, Longitude  \u001b[38;5;66;03m# return a tuple\u001b[39;00m\n\u001b[1;32m---> 16\u001b[0m coordinates \u001b[38;5;241m=\u001b[39m \u001b[43mget_coordinates\u001b[49m\u001b[43m(\u001b[49m\u001b[38;5;28;43minput\u001b[39;49m\u001b[43m(\u001b[49m\u001b[38;5;124;43m\"\u001b[39;49m\u001b[38;5;124;43mEnter the address: \u001b[39;49m\u001b[38;5;124;43m\"\u001b[39;49m\u001b[43m)\u001b[49m\u001b[43m)\u001b[49m\n\u001b[0;32m     17\u001b[0m coordinates\n",
      "Cell \u001b[1;32mIn[6], line 9\u001b[0m, in \u001b[0;36mget_coordinates\u001b[1;34m(address)\u001b[0m\n\u001b[0;32m      7\u001b[0m r \u001b[38;5;241m=\u001b[39m requests\u001b[38;5;241m.\u001b[39mget(\u001b[38;5;124mf\u001b[39m\u001b[38;5;124m\"\u001b[39m\u001b[38;5;132;01m{\u001b[39;00mbase_url\u001b[38;5;132;01m}\u001b[39;00m\u001b[38;5;132;01m{\u001b[39;00murllib\u001b[38;5;241m.\u001b[39mparse\u001b[38;5;241m.\u001b[39murlencode(parameters)\u001b[38;5;132;01m}\u001b[39;00m\u001b[38;5;124m\"\u001b[39m)\n\u001b[0;32m      8\u001b[0m data \u001b[38;5;241m=\u001b[39m json\u001b[38;5;241m.\u001b[39mloads(r\u001b[38;5;241m.\u001b[39mcontent)\n\u001b[1;32m----> 9\u001b[0m \u001b[38;5;28mprint\u001b[39m(\u001b[43mdata\u001b[49m\u001b[43m[\u001b[49m\u001b[38;5;124;43m'\u001b[39;49m\u001b[38;5;124;43mfuzzy\u001b[39;49m\u001b[38;5;124;43m'\u001b[39;49m\u001b[43m]\u001b[49m)\n\u001b[0;32m     10\u001b[0m \u001b[38;5;28;01mif\u001b[39;00m data[\u001b[38;5;124m'\u001b[39m\u001b[38;5;124mresults\u001b[39m\u001b[38;5;124m'\u001b[39m] \u001b[38;5;241m==\u001b[39m [] \u001b[38;5;129;01mor\u001b[39;00m \u001b[38;5;28mlen\u001b[39m(data[\u001b[38;5;124m'\u001b[39m\u001b[38;5;124mresults\u001b[39m\u001b[38;5;124m'\u001b[39m]) \u001b[38;5;241m==\u001b[39m \u001b[38;5;241m0\u001b[39m:\n\u001b[0;32m     11\u001b[0m     \u001b[38;5;28;01mreturn\u001b[39;00m \u001b[38;5;28;01mNone\u001b[39;00m, \u001b[38;5;28;01mNone\u001b[39;00m\n",
      "\u001b[1;31mKeyError\u001b[0m: 'fuzzy'"
     ]
    }
   ],
   "source": [
    "def get_coordinates(address):\n",
    "    base_url= \"https://api3.geo.admin.ch/rest/services/api/SearchServer?\"\n",
    "    parameters = {\"searchText\": address,\n",
    "                \"origins\": \"address\",\n",
    "                \"type\": \"locations\",\n",
    "                }\n",
    "    r = requests.get(f\"{base_url}{urllib.parse.urlencode(parameters)}\")\n",
    "    data = json.loads(r.content)\n",
    "    if data['results'] == [] or len(data['results']) == 0:\n",
    "        return None, None\n",
    "    try:\n",
    "        Latitude = data['results'][0]['attrs']['lat']\n",
    "        Longitude = data['results'][0]['attrs']['lon']\n",
    "    except:\n",
    "        return None, None\n",
    "    return Latitude, Longitude  # return a tuple\n",
    "\n",
    "coordinates = get_coordinates(input(\"Enter the address: \"))\n",
    "coordinates"
   ]
  },
  {
   "cell_type": "code",
   "execution_count": 88,
   "metadata": {},
   "outputs": [],
   "source": [
    "def get_distance_to_station(Latitude, Longitude):\n",
    "    \"\"\"\n",
    "    This function determines the closesd trainstation based on the input coordinates and returns the distance between the given Point and the nearest station.\n",
    "    NOTICE: Assumes that the input Points are in WGS84 projection (lat/lon).\n",
    "    \"\"\"\n",
    "    url = \"https://nominatim.openstreetmap.org/reverse\"\n",
    "    params = {\n",
    "        'format': 'json',\n",
    "        'lat': Latitude,\n",
    "        'lon': Longitude,\n",
    "        'zoom': 18,\n",
    "        'addressdetails': 1\n",
    "    }\n",
    "    response = requests.get(url, params=params)\n",
    "    data = response.json()\n",
    "    if 'address' in data and 'town' in data['address']:\n",
    "        Town = data['address']['town']\n",
    "    elif 'address' in data and 'city' in data['address']:\n",
    "        Town = data['address']['city']\n",
    "    else:\n",
    "        return \"No town found\"\n",
    "    \n",
    "    url = \"http://transport.opendata.ch/v1/locations\"\n",
    "    params = {\n",
    "        'type': 'station',\n",
    "        'query': Town\n",
    "    }\n",
    "    data = requests.get(url, params=params).json()\n",
    "    station_lat = data[\"stations\"][0][\"coordinate\"][\"x\"]\n",
    "    station_lon = data[\"stations\"][0][\"coordinate\"][\"y\"]\n",
    "\n",
    "    # Calculate the distance between the two points with pythagoras\n",
    "    # Can not apply pythagoras directly, because the earth is not flat\n",
    "    # Convert latitude and longitude to radians\n",
    "    lat1, lon1, lat2, lon2 = map(radians, [Latitude, Longitude, station_lat, station_lon])\n",
    "    \n",
    "    # Haversine formula\n",
    "    dlon = lon2 - lon1\n",
    "    dlat = lat2 - lat1\n",
    "    a = sin(dlat/2)**2 + cos(lat1) * cos(lat2) * sin(dlon/2)**2\n",
    "    c = 2 * atan2(sqrt(a), sqrt(1-a))\n",
    "    radius_of_earth_km = 6371.0\n",
    "    distance = radius_of_earth_km * c\n",
    "\n",
    "    return distance"
   ]
  },
  {
   "cell_type": "markdown",
   "metadata": {},
   "source": [
    "Since the earth is not flat, the Pythagorean theorem would not be accurate for calculating distances between geographical coordinates. The Haversine formula or other spherical geometry methods are more appropriate for that purpose.\n",
    "\n",
    "\n",
    "![Image description](resources\\Haversine.png)\n",
    "\n",
    "[Image Source](https://www.google.com/imgres?imgurl=https%3A%2F%2Fwww.vcalc.com%2Fattachments%2Fe6d11679-da27-11e2-8e97-bc764e04d25f%2F220px-Law-of-haversines.svg.png&tbnid=IWPxBR6bJWrqlM&vet=12ahUKEwjcuMO1-JmFAxU9kP0HHZ3sBuoQMygQegQIARBu..i&imgrefurl=https%3A%2F%2Fwww.vcalc.com%2Fwiki%2Fvcalc%2Fhaversine-distance&docid=MOeiC0D7gb9SqM&w=220&h=220&q=Haversine%20formula&ved=2ahUKEwjcuMO1-JmFAxU9kP0HHZ3sBuoQMygQegQIARBu)"
   ]
  },
  {
   "cell_type": "code",
   "execution_count": 89,
   "metadata": {},
   "outputs": [
    {
     "data": {
      "text/plain": [
       "1.0172157309429812"
      ]
     },
     "execution_count": 89,
     "metadata": {},
     "output_type": "execute_result"
    }
   ],
   "source": [
    "get_distance_to_station(coordinates[0], coordinates[1])"
   ]
  },
  {
   "cell_type": "code",
   "execution_count": null,
   "metadata": {},
   "outputs": [],
   "source": []
  }
 ],
 "metadata": {
  "kernelspec": {
   "display_name": "adsenv",
   "language": "python",
   "name": "python3"
  },
  "language_info": {
   "codemirror_mode": {
    "name": "ipython",
    "version": 3
   },
   "file_extension": ".py",
   "mimetype": "text/x-python",
   "name": "python",
   "nbconvert_exporter": "python",
   "pygments_lexer": "ipython3",
   "version": "3.11.7"
  }
 },
 "nbformat": 4,
 "nbformat_minor": 2
}
