{
 "cells": [
  {
   "cell_type": "markdown",
   "metadata": {},
   "source": [
    "# Intenssion:\n",
    "ML-Models need numbers to work with. The webscraping does not provide enough data/features. We build some features by our own. \n",
    "\n",
    "1. built feature is the distance to the next train station\n",
    "---\n",
    "- **input**: address\n",
    "- **output**: distance in meters\n"
   ]
  },
  {
   "cell_type": "code",
   "execution_count": 12,
   "metadata": {},
   "outputs": [],
   "source": [
    "# Libraries\n",
    "import os\n",
    "import json\n",
    "import urllib\n",
    "import requests\n",
    "import pandas as pd\n"
   ]
  },
  {
   "cell_type": "code",
   "execution_count": 23,
   "metadata": {},
   "outputs": [],
   "source": [
    "address = \"8400 Winterthur, Theaterstrasse 17.1\"\n",
    "#address = input(\"Enter the address: \")"
   ]
  },
  {
   "cell_type": "code",
   "execution_count": 24,
   "metadata": {},
   "outputs": [
    {
     "name": "stdout",
     "output_type": "stream",
     "text": [
      "https://api3.geo.admin.ch/rest/services/api/SearchServer?searchText=8400+Winterthur%2C+Theaterstrasse+17.1&origins=address&type=locations\n"
     ]
    }
   ],
   "source": [
    "# Define base url for address search\n",
    "base_url= \"https://api3.geo.admin.ch/rest/services/api/SearchServer?\"\n",
    "\n",
    "# Set up search parameters: address, origins and type\n",
    "parameters = {\"searchText\": address,\n",
    "              \"origins\": \"address\",\n",
    "              \"type\": \"locations\",\n",
    "             }\n",
    "\n",
    "# Urllib.parse.urlencode turns parameters into url\n",
    "print(f\"{base_url}{urllib.parse.urlencode(parameters)}\")"
   ]
  },
  {
   "cell_type": "code",
   "execution_count": 25,
   "metadata": {},
   "outputs": [
    {
     "data": {
      "text/plain": [
       "{'results': [{'attrs': {'detail': 'theaterstrasse 17.1 8400 winterthur 230 winterthur ch zh',\n",
       "    'featureId': '201032451_0',\n",
       "    'geom_quadindex': '030010211112102121200',\n",
       "    'geom_st_box2d': 'BOX(697167.118926371 262226.7588384855,697167.118926371 262226.7588384855)',\n",
       "    'label': 'Theaterstrasse 17.1 <b>8400 Winterthur</b>',\n",
       "    'lat': 47.50360870361328,\n",
       "    'lon': 8.728364944458008,\n",
       "    'num': 171,\n",
       "    'objectclass': '',\n",
       "    'origin': 'address',\n",
       "    'rank': 7,\n",
       "    'x': 262226.75,\n",
       "    'y': 697167.125,\n",
       "    'zoomlevel': 10},\n",
       "   'id': 1553626,\n",
       "   'weight': 4},\n",
       "  {'attrs': {'detail': 'theaterstrasse 17 8400 winterthur 230 winterthur ch zh',\n",
       "    'featureId': '2323240_0',\n",
       "    'geom_quadindex': '030010211112013212300',\n",
       "    'geom_st_box2d': 'BOX(697128.5668860576 262216.11449080077,697128.5668860576 262216.11449080077)',\n",
       "    'label': 'Theaterstrasse 17 <b>8400 Winterthur</b>',\n",
       "    'lat': 47.503517150878906,\n",
       "    'lon': 8.727851867675781,\n",
       "    'num': 17,\n",
       "    'objectclass': '',\n",
       "    'origin': 'address',\n",
       "    'rank': 7,\n",
       "    'x': 262216.125,\n",
       "    'y': 697128.5625,\n",
       "    'zoomlevel': 10},\n",
       "   'id': 919543,\n",
       "   'weight': 1}]}"
      ]
     },
     "execution_count": 25,
     "metadata": {},
     "output_type": "execute_result"
    }
   ],
   "source": [
    "# Server request\n",
    "r = requests.get(f\"{base_url}{urllib.parse.urlencode(parameters)}\")\n",
    "\n",
    "# Get data in json-format\n",
    "data = json.loads(r.content)\n",
    "data\n",
    "# can return several results, so we need to select the first one. It is the one closer to the input address. try: \"8400 Winterthur, Theaterstrasse 17.1\" vs \"8400 Winterthur, Theaterstrasse 17\""
   ]
  },
  {
   "cell_type": "code",
   "execution_count": 26,
   "metadata": {},
   "outputs": [
    {
     "data": {
      "text/plain": [
       "{'attrs': {'detail': 'theaterstrasse 17.1 8400 winterthur 230 winterthur ch zh',\n",
       "  'featureId': '201032451_0',\n",
       "  'geom_quadindex': '030010211112102121200',\n",
       "  'geom_st_box2d': 'BOX(697167.118926371 262226.7588384855,697167.118926371 262226.7588384855)',\n",
       "  'label': 'Theaterstrasse 17.1 <b>8400 Winterthur</b>',\n",
       "  'lat': 47.50360870361328,\n",
       "  'lon': 8.728364944458008,\n",
       "  'num': 171,\n",
       "  'objectclass': '',\n",
       "  'origin': 'address',\n",
       "  'rank': 7,\n",
       "  'x': 262226.75,\n",
       "  'y': 697167.125,\n",
       "  'zoomlevel': 10},\n",
       " 'id': 1553626,\n",
       " 'weight': 4}"
      ]
     },
     "execution_count": 26,
     "metadata": {},
     "output_type": "execute_result"
    }
   ],
   "source": [
    "data['results'][0]"
   ]
  },
  {
   "cell_type": "code",
   "execution_count": 27,
   "metadata": {},
   "outputs": [
    {
     "data": {
      "text/plain": [
       "47.50360870361328"
      ]
     },
     "execution_count": 27,
     "metadata": {},
     "output_type": "execute_result"
    }
   ],
   "source": [
    "Latitude = data['results'][0]['attrs']['lat']\n",
    "Latitude"
   ]
  },
  {
   "cell_type": "code",
   "execution_count": 29,
   "metadata": {},
   "outputs": [
    {
     "data": {
      "text/plain": [
       "8.728364944458008"
      ]
     },
     "execution_count": 29,
     "metadata": {},
     "output_type": "execute_result"
    }
   ],
   "source": [
    "Longitude = data['results'][0]['attrs']['lon']\n",
    "Longitude"
   ]
  },
  {
   "cell_type": "code",
   "execution_count": null,
   "metadata": {},
   "outputs": [],
   "source": []
  }
 ],
 "metadata": {
  "kernelspec": {
   "display_name": "adsenv",
   "language": "python",
   "name": "python3"
  },
  "language_info": {
   "codemirror_mode": {
    "name": "ipython",
    "version": 3
   },
   "file_extension": ".py",
   "mimetype": "text/x-python",
   "name": "python",
   "nbconvert_exporter": "python",
   "pygments_lexer": "ipython3",
   "version": "3.11.7"
  }
 },
 "nbformat": 4,
 "nbformat_minor": 2
}
