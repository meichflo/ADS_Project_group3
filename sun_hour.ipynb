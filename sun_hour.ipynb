{
 "cells": [
  {
   "cell_type": "code",
   "execution_count": 1,
   "metadata": {},
   "outputs": [],
   "source": [
    "import requests\n",
    "from datetime import date, timedelta\n",
    "import numpy as np\n",
    "\n",
    "pw = \"immoProject\"\n",
    "\n",
    "latitude = 47.251914978027300\n",
    "longitude = 8.449590682983400\n",
    "\n"
   ]
  },
  {
   "cell_type": "code",
   "execution_count": 2,
   "metadata": {},
   "outputs": [
    {
     "name": "stdout",
     "output_type": "stream",
     "text": [
      "{'cod': 401, 'message': 'Invalid API key. Please see http://openweathermap.org/faq#error401 for more info.'}\n"
     ]
    }
   ],
   "source": [
    "API_key = \"20de95f2e84c39c8fc607831c30d8925\"\n",
    "\n",
    "url = \"https://history.openweathermap.org/data/2.5/aggregated/month\"\n",
    "params = {\n",
    "    'month': 2,\n",
    "    'lat': latitude,\n",
    "    'lon': longitude,\n",
    "    'appid': API_key\n",
    "}\n",
    "response = requests.get(url, params=params)\n",
    "\n",
    "print(response.json())\n",
    "\n",
    "\n"
   ]
  },
  {
   "cell_type": "markdown",
   "metadata": {},
   "source": [
    "Message from open weather: \"History API are not available for Free subscribers\""
   ]
  },
  {
   "cell_type": "code",
   "execution_count": 3,
   "metadata": {},
   "outputs": [],
   "source": [
    "# Dates setup\n",
    "today = date.today()\n",
    "one_year_ago = today - timedelta(days=365)\n",
    "def get_sunshine_duration(latitude, longitude):\n",
    "    \"\"\"Get the average sunshine duration for the past year.\n",
    "    Return in seconds.\"\"\"\n",
    "    # Request setup\n",
    "    url = \"https://archive-api.open-meteo.com/v1/archive\" \n",
    "    params = {\n",
    "        \"latitude\": latitude,  # Assuming latitude is defined earlier in your code\n",
    "        \"longitude\": longitude,  # Assuming longitude is defined earlier in your code\n",
    "        \"start_date\": one_year_ago,\n",
    "        \"end_date\": today,\n",
    "        \"daily\": \"sunshine_duration\", #\tThe number of seconds of sunshine per day is determined by calculating direct normalized irradiance exceeding 120 W/m², following the WMO definition. Sunshine duration will consistently be less than daylight duration due to dawn and dusk.\n",
    "        \"timezone\": \"Europe/Berlin\"\n",
    "    }\n",
    "\n",
    "    # Fetch data\n",
    "    response = requests.get(url, params=params).json()\n",
    "    sunshine_duration = [x for x in response[\"daily\"][\"sunshine_duration\"] if x is not None]\n",
    "\n",
    "    # Calculate and print average\n",
    "    average = sum(sunshine_duration) / len(sunshine_duration)\n",
    "    return average"
   ]
  },
  {
   "cell_type": "code",
   "execution_count": null,
   "metadata": {},
   "outputs": [],
   "source": []
  }
 ],
 "metadata": {
  "kernelspec": {
   "display_name": "adsenv",
   "language": "python",
   "name": "python3"
  },
  "language_info": {
   "codemirror_mode": {
    "name": "ipython",
    "version": 3
   },
   "file_extension": ".py",
   "mimetype": "text/x-python",
   "name": "python",
   "nbconvert_exporter": "python",
   "pygments_lexer": "ipython3",
   "version": "3.11.7"
  }
 },
 "nbformat": 4,
 "nbformat_minor": 2
}
