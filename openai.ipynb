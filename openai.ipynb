{
 "cells": [
  {
   "cell_type": "code",
   "execution_count": 6,
   "metadata": {},
   "outputs": [],
   "source": [
    "# These are all needed imports for this part of the project to run\n",
    "import pandas as pd\n",
    "import json as js\n",
    "from openai import OpenAI"
   ]
  },
  {
   "cell_type": "code",
   "execution_count": 3,
   "metadata": {},
   "outputs": [],
   "source": [
    "# This cell imports the scraped data from the main part & reduces it to the most important columns\n",
    "df = pd.read_csv('data/immoscout24_zh_all_20240402.csv', sep=';')\n",
    "df_reduced = df[['Title', 'Description', 'Address', 'Rooms', 'SquareMeters', 'CoreAttributes', 'Features']]"
   ]
  },
  {
   "cell_type": "code",
   "execution_count": 4,
   "metadata": {},
   "outputs": [
    {
     "name": "stdout",
     "output_type": "stream",
     "text": [
      "{\n",
      "    \"price_per_month\": 2800\n",
      "}\n"
     ]
    }
   ],
   "source": [
    "# Within this cell you can test the chat completions with the GPT-3.5 model\n",
    "client = OpenAI()\n",
    "\n",
    "testRow = 15\n",
    "\n",
    "completion = client.chat.completions.create(\n",
    "  model=\"gpt-3.5-turbo-0125\",\n",
    "  response_format={ \"type\": \"json_object\" },\n",
    "  messages=[\n",
    "    {\"role\": \"system\", \"content\": \"You are a pricing assistant for swiss appartment rentals and are always to output JSON. You are given the following tasks: Estimate and only output the price per month based on the details given. Always output the price as only a number readable as an int which should always be in the currency CHF. Key to be used = price_per_month\"},\n",
    "    {\"role\": \"user\", \"content\": \"Please predict the price based on these details:\" + df_reduced.iloc[testRow].to_json()}\n",
    "  ]\n",
    ")\n",
    "\n",
    "print(completion.choices[0].message.content)"
   ]
  },
  {
   "cell_type": "code",
   "execution_count": 59,
   "metadata": {},
   "outputs": [
    {
     "name": "stdout",
     "output_type": "stream",
     "text": [
      "Price Per Month: 3500\n"
     ]
    }
   ],
   "source": [
    "# Parse JSON data\n",
    "data = js.loads(completion.choices[0].message.content)\n",
    "\n",
    "# Accessing the value\n",
    "price_per_month = data[\"price_per_month\"]\n",
    "print(\"Price Per Month:\", price_per_month)"
   ]
  },
  {
   "cell_type": "code",
   "execution_count": 5,
   "metadata": {},
   "outputs": [],
   "source": [
    "df.rename(columns={'Price': 'ActualPrice'}, inplace=True)\n",
    "df['PredictedPrice'] = None\n",
    "\n",
    "client = OpenAI()\n",
    "\n",
    "for i in range(len(df_reduced)):\n",
    "    completion = client.chat.completions.create(\n",
    "        model=\"gpt-3.5-turbo-0125\",\n",
    "        response_format={\"type\": \"json_object\"},\n",
    "        messages=[\n",
    "            {\"role\": \"system\", \"content\": \"You are a pricing assistant for swiss appartment rentals and are always to output JSON. You are given the following tasks: Estimate and only output the price per month based on the details given. Always output the price as only a number readable as an int which should always be in the currency CHF. Key to be used = price_per_month\"},\n",
    "            {\"role\": \"user\", \"content\": \"Please predict the price based on these details:\" + df_reduced.iloc[i].to_json()}\n",
    "        ]\n",
    "    )\n",
    "\n",
    "    df.at[i, 'PredictedPrice'] = js.loads(completion.choices[0].message.content)"
   ]
  },
  {
   "cell_type": "code",
   "execution_count": 7,
   "metadata": {},
   "outputs": [],
   "source": [
    "df.to_csv('data/immoscout24_openAI_3.5_untrained_V2.csv', index=False, sep=';')"
   ]
  },
  {
   "cell_type": "code",
   "execution_count": 8,
   "metadata": {},
   "outputs": [
    {
     "data": {
      "text/html": [
       "<div>\n",
       "<style scoped>\n",
       "    .dataframe tbody tr th:only-of-type {\n",
       "        vertical-align: middle;\n",
       "    }\n",
       "\n",
       "    .dataframe tbody tr th {\n",
       "        vertical-align: top;\n",
       "    }\n",
       "\n",
       "    .dataframe thead th {\n",
       "        text-align: right;\n",
       "    }\n",
       "</style>\n",
       "<table border=\"1\" class=\"dataframe\">\n",
       "  <thead>\n",
       "    <tr style=\"text-align: right;\">\n",
       "      <th></th>\n",
       "      <th>ActualPrice</th>\n",
       "      <th>PredictedPrice</th>\n",
       "    </tr>\n",
       "  </thead>\n",
       "  <tbody>\n",
       "    <tr>\n",
       "      <th>0</th>\n",
       "      <td>CHF 2’570.–</td>\n",
       "      <td>{'price_per_month': 2800}</td>\n",
       "    </tr>\n",
       "    <tr>\n",
       "      <th>1</th>\n",
       "      <td>CHF 1’921.–</td>\n",
       "      <td>{'price_per_month': 1700}</td>\n",
       "    </tr>\n",
       "    <tr>\n",
       "      <th>2</th>\n",
       "      <td>CHF 2’830.–</td>\n",
       "      <td>{'price_per_month': 3500}</td>\n",
       "    </tr>\n",
       "    <tr>\n",
       "      <th>3</th>\n",
       "      <td>CHF 2’950.–</td>\n",
       "      <td>{'price_per_month': 3000}</td>\n",
       "    </tr>\n",
       "    <tr>\n",
       "      <th>4</th>\n",
       "      <td>CHF 2’950.–</td>\n",
       "      <td>{'price_per_month': 3000}</td>\n",
       "    </tr>\n",
       "  </tbody>\n",
       "</table>\n",
       "</div>"
      ],
      "text/plain": [
       "   ActualPrice             PredictedPrice\n",
       "0  CHF 2’570.–  {'price_per_month': 2800}\n",
       "1  CHF 1’921.–  {'price_per_month': 1700}\n",
       "2  CHF 2’830.–  {'price_per_month': 3500}\n",
       "3  CHF 2’950.–  {'price_per_month': 3000}\n",
       "4  CHF 2’950.–  {'price_per_month': 3000}"
      ]
     },
     "execution_count": 8,
     "metadata": {},
     "output_type": "execute_result"
    }
   ],
   "source": [
    "df_predicted = df[['ActualPrice', 'PredictedPrice']]\n",
    "\n",
    "df_predicted.head()"
   ]
  },
  {
   "cell_type": "code",
   "execution_count": 13,
   "metadata": {},
   "outputs": [
    {
     "name": "stderr",
     "output_type": "stream",
     "text": [
      "/var/folders/zw/t1c90qr96s5g2qgbhsf_svzw0000gn/T/ipykernel_36845/3193449188.py:22: SettingWithCopyWarning: \n",
      "A value is trying to be set on a copy of a slice from a DataFrame.\n",
      "Try using .loc[row_indexer,col_indexer] = value instead\n",
      "\n",
      "See the caveats in the documentation: https://pandas.pydata.org/pandas-docs/stable/user_guide/indexing.html#returning-a-view-versus-a-copy\n",
      "  df_predicted['ActualPrice'] = df_predicted['ActualPrice'].apply(extract_and_convert_price)\n",
      "/var/folders/zw/t1c90qr96s5g2qgbhsf_svzw0000gn/T/ipykernel_36845/3193449188.py:23: SettingWithCopyWarning: \n",
      "A value is trying to be set on a copy of a slice from a DataFrame.\n",
      "Try using .loc[row_indexer,col_indexer] = value instead\n",
      "\n",
      "See the caveats in the documentation: https://pandas.pydata.org/pandas-docs/stable/user_guide/indexing.html#returning-a-view-versus-a-copy\n",
      "  df_predicted['PredictedPrice'] = df_predicted['PredictedPrice'].apply(extract_and_convert_price)\n"
     ]
    },
    {
     "data": {
      "text/html": [
       "<div>\n",
       "<style scoped>\n",
       "    .dataframe tbody tr th:only-of-type {\n",
       "        vertical-align: middle;\n",
       "    }\n",
       "\n",
       "    .dataframe tbody tr th {\n",
       "        vertical-align: top;\n",
       "    }\n",
       "\n",
       "    .dataframe thead th {\n",
       "        text-align: right;\n",
       "    }\n",
       "</style>\n",
       "<table border=\"1\" class=\"dataframe\">\n",
       "  <thead>\n",
       "    <tr style=\"text-align: right;\">\n",
       "      <th></th>\n",
       "      <th>ActualPrice</th>\n",
       "      <th>PredictedPrice</th>\n",
       "    </tr>\n",
       "  </thead>\n",
       "  <tbody>\n",
       "    <tr>\n",
       "      <th>0</th>\n",
       "      <td>2570.0</td>\n",
       "      <td>2800</td>\n",
       "    </tr>\n",
       "    <tr>\n",
       "      <th>1</th>\n",
       "      <td>1921.0</td>\n",
       "      <td>1700</td>\n",
       "    </tr>\n",
       "    <tr>\n",
       "      <th>2</th>\n",
       "      <td>2830.0</td>\n",
       "      <td>3500</td>\n",
       "    </tr>\n",
       "    <tr>\n",
       "      <th>3</th>\n",
       "      <td>2950.0</td>\n",
       "      <td>3000</td>\n",
       "    </tr>\n",
       "    <tr>\n",
       "      <th>4</th>\n",
       "      <td>2950.0</td>\n",
       "      <td>3000</td>\n",
       "    </tr>\n",
       "  </tbody>\n",
       "</table>\n",
       "</div>"
      ],
      "text/plain": [
       "   ActualPrice  PredictedPrice\n",
       "0       2570.0            2800\n",
       "1       1921.0            1700\n",
       "2       2830.0            3500\n",
       "3       2950.0            3000\n",
       "4       2950.0            3000"
      ]
     },
     "execution_count": 13,
     "metadata": {},
     "output_type": "execute_result"
    }
   ],
   "source": [
    "df_predicted = df[['ActualPrice', 'PredictedPrice']]\n",
    "\n",
    "def extract_and_convert_price(price_data):\n",
    "    # Determine the correct price string based on data type\n",
    "    if isinstance(price_data, dict):\n",
    "        # Extracting price from dictionary with different possible keys\n",
    "        key_variations = ['PricePerMonth', 'Price per month', 'price_per_month']\n",
    "        for key in key_variations:\n",
    "            if key in price_data:\n",
    "                price_str = str(price_data[key])  # Convert to string to ensure compatibility\n",
    "                break\n",
    "        else:\n",
    "            return None  # If none of the keys are found\n",
    "    else:\n",
    "        price_str = str(price_data)  # Convert to string if not a dictionary\n",
    "\n",
    "    # Clean the price string by removing non-digit characters\n",
    "    cleaned_price = ''.join([char for char in price_str if char.isdigit()])\n",
    "    return int(cleaned_price) if cleaned_price else None  \n",
    "\n",
    "# Apply the updated function to the DataFrame columns\n",
    "df_predicted['ActualPrice'] = df_predicted['ActualPrice'].apply(extract_and_convert_price)\n",
    "df_predicted['PredictedPrice'] = df_predicted['PredictedPrice'].apply(extract_and_convert_price)\n",
    "\n",
    "df_predicted.head()"
   ]
  },
  {
   "cell_type": "code",
   "execution_count": 32,
   "metadata": {},
   "outputs": [
    {
     "name": "stdout",
     "output_type": "stream",
     "text": [
      "R^2 Score: 0.6834336633716507\n",
      "Mean Squared Error: 7242880.472081218\n",
      "Mean Absolute Error: 820.0091370558375\n"
     ]
    }
   ],
   "source": [
    "from sklearn.metrics import r2_score, mean_squared_error, mean_absolute_error\n",
    "\n",
    "r_squared = r2_score(df_predicted['ActualPrice'], df_predicted['PredictedPrice'])\n",
    "mse = mean_squared_error(df_predicted['ActualPrice'], df_predicted['PredictedPrice'])\n",
    "mae = mean_absolute_error(df_predicted['ActualPrice'], df_predicted['PredictedPrice'])\n",
    "\n",
    "print(f'R^2 Score: {r_squared}')\n",
    "print(f'Mean Squared Error: {mse}')\n",
    "print(f'Mean Absolute Error: {mae}')\n"
   ]
  },
  {
   "cell_type": "code",
   "execution_count": 31,
   "metadata": {},
   "outputs": [
    {
     "data": {
      "text/plain": [
       "ActualPrice       0\n",
       "PredictedPrice    0\n",
       "dtype: int64"
      ]
     },
     "execution_count": 31,
     "metadata": {},
     "output_type": "execute_result"
    }
   ],
   "source": [
    "df_predicted = df_predicted.dropna()\n",
    "df_predicted.isna().sum()"
   ]
  },
  {
   "cell_type": "code",
   "execution_count": 21,
   "metadata": {},
   "outputs": [
    {
     "data": {
      "text/plain": [
       "ActualPrice       2415.0\n",
       "PredictedPrice    2550.0\n",
       "Name: 764, dtype: float64"
      ]
     },
     "execution_count": 21,
     "metadata": {},
     "output_type": "execute_result"
    }
   ],
   "source": [
    "df_predicted.iloc[764]"
   ]
  }
 ],
 "metadata": {
  "kernelspec": {
   "display_name": "adsenv",
   "language": "python",
   "name": "python3"
  },
  "language_info": {
   "codemirror_mode": {
    "name": "ipython",
    "version": 3
   },
   "file_extension": ".py",
   "mimetype": "text/x-python",
   "name": "python",
   "nbconvert_exporter": "python",
   "pygments_lexer": "ipython3",
   "version": "3.11.8"
  },
  "orig_nbformat": 4
 },
 "nbformat": 4,
 "nbformat_minor": 2
}
