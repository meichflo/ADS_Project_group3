{
 "cells": [
  {
   "cell_type": "markdown",
   "metadata": {},
   "source": [
    "# Intenssion:\n",
    "ML-Models need numbers to work with. The webscraping does not provide enough data/features. We build some features by our own. \n",
    "\n",
    "1. built feature is the distance to the next train station\n",
    "---\n",
    "- **input**: address\n",
    "- **output**: distance in meters\n"
   ]
  },
  {
   "cell_type": "code",
   "execution_count": 19,
   "metadata": {},
   "outputs": [],
   "source": [
    "# Libraries\n",
    "import os\n",
    "import json\n",
    "import urllib\n",
    "import requests\n",
    "import pandas as pd\n",
    "from math import radians, cos, sin, sqrt, atan2\n",
    "\n",
    "import googlemaps"
   ]
  },
  {
   "cell_type": "code",
   "execution_count": 20,
   "metadata": {},
   "outputs": [],
   "source": [
    "#address = \"8400 Winterthur, Theaterstrasse 17.1\"\n",
    "#address = input(\"Enter the address: \")\n",
    "\n",
    "address = \"8000 Zurich\""
   ]
  },
  {
   "cell_type": "markdown",
   "metadata": {},
   "source": [
    "# google maps"
   ]
  },
  {
   "cell_type": "code",
   "execution_count": 22,
   "metadata": {},
   "outputs": [
    {
     "name": "stdout",
     "output_type": "stream",
     "text": [
      "Error:  Invalid API key provided.\n"
     ]
    },
    {
     "data": {
      "text/plain": [
       "[{'address_components': [{'long_name': '8000',\n",
       "    'short_name': '8000',\n",
       "    'types': ['postal_code']},\n",
       "   {'long_name': 'Zürich',\n",
       "    'short_name': 'Zürich',\n",
       "    'types': ['locality', 'political']},\n",
       "   {'long_name': 'Zürich District',\n",
       "    'short_name': 'Zürich District',\n",
       "    'types': ['administrative_area_level_2', 'political']},\n",
       "   {'long_name': 'Zurich',\n",
       "    'short_name': 'ZH',\n",
       "    'types': ['administrative_area_level_1', 'political']},\n",
       "   {'long_name': 'Switzerland',\n",
       "    'short_name': 'CH',\n",
       "    'types': ['country', 'political']}],\n",
       "  'formatted_address': '8000 Zürich, Switzerland',\n",
       "  'geometry': {'location': {'lat': 47.38181489999999,\n",
       "    'lng': 8.535326099999999},\n",
       "   'location_type': 'APPROXIMATE',\n",
       "   'viewport': {'northeast': {'lat': 47.38316388029149,\n",
       "     'lng': 8.5366750802915},\n",
       "    'southwest': {'lat': 47.3804659197085, 'lng': 8.533977119708497}}},\n",
       "  'place_id': 'ChIJrcONeA4KkEcRB_FARs0EnLQ',\n",
       "  'types': ['postal_code']}]"
      ]
     },
     "execution_count": 22,
     "metadata": {},
     "output_type": "execute_result"
    }
   ],
   "source": [
    "from keys import keyFlorian\n",
    "try:\n",
    "    gmaps = googlemaps.Client(key=\"abd\")\n",
    "except Exception as e:\n",
    "    print(\"Error: \", e)\n",
    "# Geocoding an address\n",
    "geocode_result = gmaps.geocode(address)\n",
    "geocode_result"
   ]
  },
  {
   "cell_type": "code",
   "execution_count": 18,
   "metadata": {},
   "outputs": [
    {
     "name": "stdout",
     "output_type": "stream",
     "text": [
      "Coordinates for 8000 Zurich are: Latitude = 47.38181489999999, Longitude = 8.535326099999999\n"
     ]
    }
   ],
   "source": [
    "# Extract latitude and longitude\n",
    "if geocode_result:\n",
    "    latitude = geocode_result[0]['geometry']['location']['lat']\n",
    "    longitude = geocode_result[0]['geometry']['location']['lng']\n",
    "    print(f\"Coordinates for {address} are: Latitude = {latitude}, Longitude = {longitude}\")\n",
    "else:\n",
    "    print(\"Address not found.\")"
   ]
  },
  {
   "cell_type": "code",
   "execution_count": null,
   "metadata": {},
   "outputs": [],
   "source": [
    "def get_google_coordinates(address):\n",
    "    gmaps = googlemaps.Client(key=keyFlorian)\n",
    "    # Geocoding an address\n",
    "    geocode_result = gmaps.geocode(address)\n",
    "    if geocode_result:\n",
    "        latitude = geocode_result[0]['geometry']['location']['lat']\n",
    "        longitude = geocode_result[0]['geometry']['location']['lng']\n",
    "    else:\n",
    "        latitude = None\n",
    "        longitude = None\n",
    "    return latitude, longitude"
   ]
  },
  {
   "cell_type": "markdown",
   "metadata": {},
   "source": [
    "# geo.admin.ch"
   ]
  },
  {
   "cell_type": "code",
   "execution_count": 7,
   "metadata": {},
   "outputs": [
    {
     "name": "stdout",
     "output_type": "stream",
     "text": [
      "https://api3.geo.admin.ch/rest/services/api/SearchServer?searchText=Badenerstrasse+250%2C+8052+Z%C3%BCrich&origins=address&type=locations\n"
     ]
    }
   ],
   "source": [
    "# Define base url for address search\n",
    "base_url= \"https://api3.geo.admin.ch/rest/services/api/SearchServer?\"\n",
    "\n",
    "# Set up search parameters: address, origins and type\n",
    "parameters = {\"searchText\": address,\n",
    "              \"origins\": \"address\",\n",
    "              \"type\": \"locations\",\n",
    "             }\n",
    "\n",
    "# Urllib.parse.urlencode turns parameters into url\n",
    "print(f\"{base_url}{urllib.parse.urlencode(parameters)}\")"
   ]
  },
  {
   "cell_type": "code",
   "execution_count": 8,
   "metadata": {},
   "outputs": [
    {
     "data": {
      "text/plain": [
       "{'fuzzy': 'true', 'results': []}"
      ]
     },
     "execution_count": 8,
     "metadata": {},
     "output_type": "execute_result"
    }
   ],
   "source": [
    "parameters = {\"searchText\": address,\n",
    "              \"origins\": \"address\",\n",
    "              \"type\": \"locations\",\n",
    "             }\n",
    "response = requests.get(f\"{base_url}\", params=parameters)\n",
    "response.json()"
   ]
  },
  {
   "cell_type": "code",
   "execution_count": 5,
   "metadata": {},
   "outputs": [
    {
     "data": {
      "text/plain": [
       "{'results': [{'attrs': {'detail': 'theaterstrasse 17.1 8400 winterthur 230 winterthur ch zh',\n",
       "    'featureId': '201032451_0',\n",
       "    'geom_quadindex': '030010211112102121200',\n",
       "    'geom_st_box2d': 'BOX(697167.118926371 262226.7588384855,697167.118926371 262226.7588384855)',\n",
       "    'label': 'Theaterstrasse 17.1 <b>8400 Winterthur</b>',\n",
       "    'lat': 47.50360870361328,\n",
       "    'lon': 8.728364944458008,\n",
       "    'num': 171,\n",
       "    'objectclass': '',\n",
       "    'origin': 'address',\n",
       "    'rank': 7,\n",
       "    'x': 262226.75,\n",
       "    'y': 697167.125,\n",
       "    'zoomlevel': 10},\n",
       "   'id': 1533870,\n",
       "   'weight': 4},\n",
       "  {'attrs': {'detail': 'theaterstrasse 17 8400 winterthur 230 winterthur ch zh',\n",
       "    'featureId': '2323240_0',\n",
       "    'geom_quadindex': '030010211112013212300',\n",
       "    'geom_st_box2d': 'BOX(697128.5668860576 262216.11449080077,697128.5668860576 262216.11449080077)',\n",
       "    'label': 'Theaterstrasse 17 <b>8400 Winterthur</b>',\n",
       "    'lat': 47.503517150878906,\n",
       "    'lon': 8.727851867675781,\n",
       "    'num': 17,\n",
       "    'objectclass': '',\n",
       "    'origin': 'address',\n",
       "    'rank': 7,\n",
       "    'x': 262216.125,\n",
       "    'y': 697128.5625,\n",
       "    'zoomlevel': 10},\n",
       "   'id': 897484,\n",
       "   'weight': 1}]}"
      ]
     },
     "execution_count": 5,
     "metadata": {},
     "output_type": "execute_result"
    }
   ],
   "source": [
    "# Server request\n",
    "r = requests.get(f\"{base_url}{urllib.parse.urlencode(parameters)}\")\n",
    "\n",
    "# Get data in json-format\n",
    "data = json.loads(r.content)\n",
    "data\n",
    "# can return several results, so we need to select the first one. It is the one closer to the input address. try: \"8400 Winterthur, Theaterstrasse 17.1\" vs \"8400 Winterthur, Theaterstrasse 17\""
   ]
  },
  {
   "cell_type": "code",
   "execution_count": 6,
   "metadata": {},
   "outputs": [
    {
     "data": {
      "text/plain": [
       "{'attrs': {'detail': 'theaterstrasse 17.1 8400 winterthur 230 winterthur ch zh',\n",
       "  'featureId': '201032451_0',\n",
       "  'geom_quadindex': '030010211112102121200',\n",
       "  'geom_st_box2d': 'BOX(697167.118926371 262226.7588384855,697167.118926371 262226.7588384855)',\n",
       "  'label': 'Theaterstrasse 17.1 <b>8400 Winterthur</b>',\n",
       "  'lat': 47.50360870361328,\n",
       "  'lon': 8.728364944458008,\n",
       "  'num': 171,\n",
       "  'objectclass': '',\n",
       "  'origin': 'address',\n",
       "  'rank': 7,\n",
       "  'x': 262226.75,\n",
       "  'y': 697167.125,\n",
       "  'zoomlevel': 10},\n",
       " 'id': 1533870,\n",
       " 'weight': 4}"
      ]
     },
     "execution_count": 6,
     "metadata": {},
     "output_type": "execute_result"
    }
   ],
   "source": [
    "data['results'][0]"
   ]
  },
  {
   "cell_type": "code",
   "execution_count": 7,
   "metadata": {},
   "outputs": [
    {
     "data": {
      "text/plain": [
       "47.50360870361328"
      ]
     },
     "execution_count": 7,
     "metadata": {},
     "output_type": "execute_result"
    }
   ],
   "source": [
    "Latitude = data['results'][0]['attrs']['lat']\n",
    "Latitude"
   ]
  },
  {
   "cell_type": "code",
   "execution_count": 8,
   "metadata": {},
   "outputs": [
    {
     "data": {
      "text/plain": [
       "8.728364944458008"
      ]
     },
     "execution_count": 8,
     "metadata": {},
     "output_type": "execute_result"
    }
   ],
   "source": [
    "Longitude = data['results'][0]['attrs']['lon']\n",
    "Longitude"
   ]
  },
  {
   "cell_type": "code",
   "execution_count": 9,
   "metadata": {},
   "outputs": [
    {
     "name": "stdout",
     "output_type": "stream",
     "text": [
      "{'results': [{'attrs': {'detail': 'sadreinegg 2 7212 seewis dorf 3972 seewis im praettigau ch gr', 'featureId': '502287503_0', 'geom_quadindex': '030311000301133000231', 'geom_st_box2d': 'BOX(766378.5361058197 208971.79489030188,766378.5361058197 208971.79489030188)', 'label': 'Sadreinegg 2 <b>7212 Seewis Dorf</b>', 'lat': 47.01091766357422, 'lon': 9.626932144165039, 'num': 2, 'objectclass': '', 'origin': 'address', 'rank': 7, 'x': 208971.796875, 'y': 766378.5625, 'zoomlevel': 10}, 'id': 2881440, 'weight': 6}, {'attrs': {'detail': 'sadreinegg 3 7212 seewis dorf 3972 seewis im praettigau ch gr', 'featureId': '502287502_0', 'geom_quadindex': '030311000301020200101', 'geom_st_box2d': 'BOX(766174.3532959665 208989.21247222737,766174.3532959665 208989.21247222737)', 'label': 'Sadreinegg 3 <b>7212 Seewis Dorf</b>', 'lat': 47.01112365722656, 'lon': 9.62425422668457, 'num': 3, 'objectclass': '', 'origin': 'address', 'rank': 7, 'x': 208989.21875, 'y': 766174.375, 'zoomlevel': 10}, 'id': 2881446, 'weight': 6}, {'attrs': {'detail': 'sadreinweg 6 7212 seewis dorf 3972 seewis im praettigau ch gr', 'featureId': '502287488_0', 'geom_quadindex': '030311000321211031333', 'geom_st_box2d': 'BOX(766274.1764361456 208465.6514639871,766274.1764361456 208465.6514639871)', 'label': 'Sadreinweg 6 <b>7212 Seewis Dorf</b>', 'lat': 47.00639343261719, 'lon': 9.625374794006348, 'num': 6, 'objectclass': '', 'origin': 'address', 'rank': 7, 'x': 208465.65625, 'y': 766274.1875, 'zoomlevel': 10}, 'id': 2984266, 'weight': 6}, {'attrs': {'detail': 'sadreinegg 9 7212 seewis dorf 3972 seewis im praettigau ch gr', 'featureId': '502287499_0', 'geom_quadindex': '030311000300113232111', 'geom_st_box2d': 'BOX(766153.4432954835 209007.24822983448,766153.4432954835 209007.24822983448)', 'label': 'Sadreinegg 9 <b>7212 Seewis Dorf</b>', 'lat': 47.01129150390625, 'lon': 9.623985290527344, 'num': 9, 'objectclass': '', 'origin': 'address', 'rank': 7, 'x': 209007.25, 'y': 766153.4375, 'zoomlevel': 10}, 'id': 2884596, 'weight': 6}, {'attrs': {'detail': 'sadreinweg 10 7212 seewis dorf 3972 seewis im praettigau ch gr', 'featureId': '502287498_0', 'geom_quadindex': '030311000310121123033', 'geom_st_box2d': 'BOX(766572.5240240248 208991.45296555271,766572.5240240248 208991.45296555271)', 'label': 'Sadreinweg 10 <b>7212 Seewis Dorf</b>', 'lat': 47.011043548583984, 'lon': 9.629488945007324, 'num': 10, 'objectclass': '', 'origin': 'address', 'rank': 7, 'x': 208991.453125, 'y': 766572.5, 'zoomlevel': 10}, 'id': 2884600, 'weight': 6}, {'attrs': {'detail': 'sadreinegg 11 7212 seewis dorf 3972 seewis im praettigau ch gr', 'featureId': '502287504_0', 'geom_quadindex': '030311000300112012133', 'geom_st_box2d': 'BOX(766124.2835969537 209028.155243731,766124.2835969537 209028.155243731)', 'label': 'Sadreinegg 11 <b>7212 Seewis Dorf</b>', 'lat': 47.0114860534668, 'lon': 9.62360954284668, 'num': 11, 'objectclass': '', 'origin': 'address', 'rank': 7, 'x': 209028.15625, 'y': 766124.3125, 'zoomlevel': 10}, 'id': 2880452, 'weight': 6}, {'attrs': {'detail': 'sadreinweg 11 7212 seewis dorf 3972 seewis im praettigau ch gr', 'featureId': '502287497_0', 'geom_quadindex': '030311000310020300132', 'geom_st_box2d': 'BOX(766423.8421640416 208987.54085436463,766423.8421640416 208987.54085436463)', 'label': 'Sadreinweg 11 <b>7212 Seewis Dorf</b>', 'lat': 47.01104736328125, 'lon': 9.627532958984375, 'num': 11, 'objectclass': '', 'origin': 'address', 'rank': 7, 'x': 208987.546875, 'y': 766423.8125, 'zoomlevel': 10}, 'id': 2885765, 'weight': 6}, {'attrs': {'detail': 'sadreinweg 22 7212 seewis dorf 3972 seewis im praettigau ch gr', 'featureId': '502287494_0', 'geom_quadindex': '030311000121302030212', 'geom_st_box2d': 'BOX(766297.4143257655 209374.96129143512,766297.4143257655 209374.96129143512)', 'label': 'Sadreinweg 22 <b>7212 Seewis Dorf</b>', 'lat': 47.01456069946289, 'lon': 9.626012802124023, 'num': 22, 'objectclass': '', 'origin': 'address', 'rank': 7, 'x': 209374.96875, 'y': 766297.4375, 'zoomlevel': 10}, 'id': 2984252, 'weight': 6}, {'attrs': {'detail': 'sadreinweg 24 7212 seewis dorf 3972 seewis im praettigau ch gr', 'featureId': '502287492_0', 'geom_quadindex': '030311000130123200323', 'geom_st_box2d': 'BOX(766555.3828731114 209425.12147499996,766555.3828731114 209425.12147499996)', 'label': 'Sadreinweg 24 <b>7212 Seewis Dorf</b>', 'lat': 47.014949798583984, 'lon': 9.629423141479492, 'num': 24, 'objectclass': '', 'origin': 'address', 'rank': 7, 'x': 209425.125, 'y': 766555.375, 'zoomlevel': 10}, 'id': 2984260, 'weight': 6}, {'attrs': {'detail': 'sadreinweg 25 7212 seewis dorf 3972 seewis im praettigau ch gr', 'featureId': '502287491_0', 'geom_quadindex': '030311000121003301212', 'geom_st_box2d': 'BOX(766220.7530055478 209484.88213245818,766220.7530055478 209484.88213245818)', 'label': 'Sadreinweg 25 <b>7212 Seewis Dorf</b>', 'lat': 47.015567779541016, 'lon': 9.625045776367188, 'num': 25, 'objectclass': '', 'origin': 'address', 'rank': 7, 'x': 209484.875, 'y': 766220.75, 'zoomlevel': 10}, 'id': 2984262, 'weight': 6}, {'attrs': {'detail': 'sadreinegg 5.1 7212 seewis dorf 3972 seewis im praettigau ch gr', 'featureId': '502287501_0', 'geom_quadindex': '030311000300131121031', 'geom_st_box2d': 'BOX(766162.3817805921 208995.63686164518,766162.3817805921 208995.63686164518)', 'label': 'Sadreinegg 5.1 <b>7212 Seewis Dorf</b>', 'lat': 47.01118469238281, 'lon': 9.624098777770996, 'num': 51, 'objectclass': '', 'origin': 'address', 'rank': 7, 'x': 208995.640625, 'y': 766162.375, 'zoomlevel': 10}, 'id': 2880453, 'weight': 6}, {'attrs': {'detail': 'sadreinegg 7.1 7212 seewis dorf 3972 seewis im praettigau ch gr', 'featureId': '502287500_0', 'geom_quadindex': '030311000300131100201', 'geom_st_box2d': 'BOX(766157.7020568834 209002.01805769748,766157.7020568834 209002.01805769748)', 'label': 'Sadreinegg 7.1 <b>7212 Seewis Dorf</b>', 'lat': 47.0112419128418, 'lon': 9.624039649963379, 'num': 71, 'objectclass': '', 'origin': 'address', 'rank': 7, 'x': 209002.015625, 'y': 766157.6875, 'zoomlevel': 10}, 'id': 2877176, 'weight': 6}, {'attrs': {'detail': 'sadreinweg 9.1 7212 seewis dorf 3972 seewis im praettigau ch gr', 'featureId': '502287487_0', 'geom_quadindex': '030311000313011330302', 'geom_st_box2d': 'BOX(766752.4409269384 208803.60762046708,766752.4409269384 208803.60762046708)', 'label': 'Sadreinweg 9.1 <b>7212 Seewis Dorf</b>', 'lat': 47.00931167602539, 'lon': 9.63178539276123, 'num': 91, 'objectclass': '', 'origin': 'address', 'rank': 7, 'x': 208803.609375, 'y': 766752.4375, 'zoomlevel': 10}, 'id': 2989348, 'weight': 6}, {'attrs': {'detail': 'sadreinweg 14.1 7212 seewis dorf 3972 seewis im praettigau ch gr', 'featureId': '502287496_0', 'geom_quadindex': '030311000123323133111', 'geom_st_box2d': 'BOX(766347.5833763196 209080.34683251643,766347.5833763196 209080.34683251643)', 'label': 'Sadreinweg 14.1 <b>7212 Seewis Dorf</b>', 'lat': 47.01190185546875, 'lon': 9.626564979553223, 'num': 141, 'objectclass': '', 'origin': 'address', 'rank': 7, 'x': 209080.34375, 'y': 766347.5625, 'zoomlevel': 10}, 'id': 2885769, 'weight': 6}, {'attrs': {'detail': 'sador corbet 153 1666 grandvillard 2134 grandvillard ch fr', 'featureId': '190043502_0', 'geom_quadindex': '021232232302223200113', 'geom_st_box2d': 'BOX(574720.4091404757 150482.8026407552,574720.4091404757 150482.8026407552)', 'label': 'Sador Corbet 153 <b>1666 Grandvillard</b>', 'lat': 46.50517654418945, 'lon': 7.109293460845947, 'num': 153, 'objectclass': '', 'origin': 'address', 'rank': 7, 'x': 150482.796875, 'y': 574720.4375, 'zoomlevel': 10}, 'id': 1206947, 'weight': 6}, {'attrs': {'detail': 'sadreinweg 20.1 7212 seewis dorf 3972 seewis im praettigau ch gr', 'featureId': '502287495_0', 'geom_quadindex': '030311000130221012132', 'geom_st_box2d': 'BOX(766445.9364474969 209350.20385293534,766445.9364474969 209350.20385293534)', 'label': 'Sadreinweg 20.1 <b>7212 Seewis Dorf</b>', 'lat': 47.01430130004883, 'lon': 9.62795639038086, 'num': 201, 'objectclass': '', 'origin': 'address', 'rank': 7, 'x': 209350.203125, 'y': 766445.9375, 'zoomlevel': 10}, 'id': 2885773, 'weight': 6}, {'attrs': {'detail': 'sadreinweg 22.1 7212 seewis dorf 3972 seewis im praettigau ch gr', 'featureId': '502287493_0', 'geom_quadindex': '030311000121310300312', 'geom_st_box2d': 'BOX(766365.4648181183 209396.85659184336,766365.4648181183 209396.85659184336)', 'label': 'Sadreinweg 22.1 <b>7212 Seewis Dorf</b>', 'lat': 47.014739990234375, 'lon': 9.62691593170166, 'num': 221, 'objectclass': '', 'origin': 'address', 'rank': 7, 'x': 209396.859375, 'y': 766365.4375, 'zoomlevel': 10}, 'id': 2984254, 'weight': 6}, {'attrs': {'detail': 'sadreinweg 27.1 7212 seewis dorf 3972 seewis im praettigau ch gr', 'featureId': '502287490_0', 'geom_quadindex': '030311000102310131300', 'geom_st_box2d': 'BOX(766140.922838018 209638.94927567945,766140.922838018 209638.94927567945)', 'label': 'Sadreinweg 27.1 <b>7212 Seewis Dorf</b>', 'lat': 47.01697540283203, 'lon': 9.624052047729492, 'num': 271, 'objectclass': '', 'origin': 'address', 'rank': 7, 'x': 209638.953125, 'y': 766140.9375, 'zoomlevel': 10}, 'id': 2984090, 'weight': 6}, {'attrs': {'detail': 'sadreinweg 28.1 7212 seewis dorf 3972 seewis im praettigau ch gr', 'featureId': '502287489_0', 'geom_quadindex': '030311000112012302112', 'geom_st_box2d': 'BOX(766482.7239569817 209717.48607428663,766482.7239569817 209717.48607428663)', 'label': 'Sadreinweg 28.1 <b>7212 Seewis Dorf</b>', 'lat': 47.01759338378906, 'lon': 9.628575325012207, 'num': 281, 'objectclass': '', 'origin': 'address', 'rank': 7, 'x': 209717.484375, 'y': 766482.75, 'zoomlevel': 10}, 'id': 2984265, 'weight': 6}, {'attrs': {'detail': 'schlattegg 8254 basadingen 4536 basadingen-schlattingen ch tg', 'featureId': '652404_0', 'geom_quadindex': '012232031123232301102', 'geom_st_box2d': 'BOX(696875.6552287266 280326.50168075,696875.6552287266 280326.50168075)', 'label': 'Schlattegg  <b>8254 Basadingen</b>', 'lat': 47.66640853881836, 'lon': 8.728447914123535, 'num': 0, 'objectclass': '', 'origin': 'address', 'rank': 7, 'x': 280326.5, 'y': 696875.625, 'zoomlevel': 10}, 'id': 357292, 'weight': 4}, {'attrs': {'detail': 'egelsee 8254 basadingen 4536 basadingen-schlattingen ch tg', 'featureId': '652446_0', 'geom_quadindex': '012232033101212001230', 'geom_st_box2d': 'BOX(696860.1789112301 279225.6418323202,696860.1789112301 279225.6418323202)', 'label': 'Egelsee  <b>8254 Basadingen</b>', 'lat': 47.65651321411133, 'lon': 8.728001594543457, 'num': 0, 'objectclass': '', 'origin': 'address', 'rank': 7, 'x': 279225.65625, 'y': 696860.1875, 'zoomlevel': 10}, 'id': 358171, 'weight': 4}, {'attrs': {'detail': 'bodental 8254 basadingen 4536 basadingen-schlattingen ch tg', 'featureId': '652448_0', 'geom_quadindex': '012232031320131310233', 'geom_st_box2d': 'BOX(696791.0588903221 279767.1146707727,696791.0588903221 279767.1146707727)', 'label': 'Bodental  <b>8254 Basadingen</b>', 'lat': 47.66139221191406, 'lon': 8.72719955444336, 'num': 0, 'objectclass': '', 'origin': 'address', 'rank': 7, 'x': 279767.125, 'y': 696791.0625, 'zoomlevel': 10}, 'id': 358173, 'weight': 4}, {'attrs': {'detail': 'rotenbuck 8254 basadingen 4536 basadingen-schlattingen ch tg', 'featureId': '652504_0', 'geom_quadindex': '012232120321022221220', 'geom_st_box2d': 'BOX(698675.9486049719 279730.88901919144,698675.9486049719 279730.88901919144)', 'label': 'Rotenbuck  <b>8254 Basadingen</b>', 'lat': 47.66078567504883, 'lon': 8.752279281616211, 'num': 0, 'objectclass': '', 'origin': 'address', 'rank': 7, 'x': 279730.875, 'y': 698675.9375, 'zoomlevel': 10}, 'id': 358814, 'weight': 4}, {'attrs': {'detail': 'sunnehof 8254 basadingen 4536 basadingen-schlattingen ch tg', 'featureId': '652505_0', 'geom_quadindex': '012232120322000211033', 'geom_st_box2d': 'BOX(698450.2241939601 279592.9833258442,698450.2241939601 279592.9833258442)', 'label': 'Sunnehof  <b>8254 Basadingen</b>', 'lat': 47.65958023071289, 'lon': 8.749244689941406, 'num': 0, 'objectclass': '', 'origin': 'address', 'rank': 7, 'x': 279592.96875, 'y': 698450.25, 'zoomlevel': 10}, 'id': 358815, 'weight': 4}, {'attrs': {'detail': 'waldhof 8254 basadingen 4536 basadingen-schlattingen ch tg', 'featureId': '652508_0', 'geom_quadindex': '012232122030112330002', 'geom_st_box2d': 'BOX(698166.9466810926 278854.30867948197,698166.9466810926 278854.30867948197)', 'label': 'Waldhof  <b>8254 Basadingen</b>', 'lat': 47.65298080444336, 'lon': 8.74531078338623, 'num': 0, 'objectclass': '', 'origin': 'address', 'rank': 7, 'x': 278854.3125, 'y': 698166.9375, 'zoomlevel': 10}, 'id': 358819, 'weight': 4}, {'attrs': {'detail': 'horbi 8254 basadingen 4536 basadingen-schlattingen ch tg', 'featureId': '652511_0', 'geom_quadindex': '012232033111203030333', 'geom_st_box2d': 'BOX(697305.7299133255 279217.8892628846,697305.7299133255 279217.8892628846)', 'label': 'Horbi  <b>8254 Basadingen</b>', 'lat': 47.656375885009766, 'lon': 8.733929634094238, 'num': 0, 'objectclass': '', 'origin': 'address', 'rank': 7, 'x': 279217.875, 'y': 697305.75, 'zoomlevel': 10}, 'id': 358822, 'weight': 4}, {'attrs': {'detail': 'sennhof 8254 basadingen 4536 basadingen-schlattingen ch tg', 'featureId': '652512_0', 'geom_quadindex': '012232033111013330011', 'geom_st_box2d': 'BOX(697377.0808968613 279323.4264721928,697377.0808968613 279323.4264721928)', 'label': 'Sennhof  <b>8254 Basadingen</b>', 'lat': 47.65731430053711, 'lon': 8.734902381896973, 'num': 0, 'objectclass': '', 'origin': 'address', 'rank': 7, 'x': 279323.4375, 'y': 697377.0625, 'zoomlevel': 10}, 'id': 358823, 'weight': 4}, {'attrs': {'detail': 'le sady 1914 iserables 6134 iserables ch vs', 'featureId': '9072625_0', 'geom_quadindex': '023031200020211203112', 'geom_st_box2d': 'BOX(585094.5886892849 111894.97353100983,585094.5886892849 111894.97353100983)', 'label': 'Le Sady  <b>1914 Isérables</b>', 'lat': 46.15836715698242, 'lon': 7.245687961578369, 'num': 0, 'objectclass': '', 'origin': 'address', 'rank': 7, 'x': 111894.9765625, 'y': 585094.5625, 'zoomlevel': 10}, 'id': 1155900, 'weight': 4}, {'attrs': {'detail': 'guetenbergli 8254 basadingen 4536 basadingen-schlattingen ch tg', 'featureId': '191213433_0', 'geom_quadindex': '012232120032311202010', 'geom_st_box2d': 'BOX(698174.9571541733 280411.3294698545,698174.9571541733 280411.3294698545)', 'label': 'Guetenbergli  <b>8254 Basadingen</b>', 'lat': 47.66697692871094, 'lon': 8.74576187133789, 'num': 0, 'objectclass': '', 'origin': 'address', 'rank': 7, 'x': 280411.34375, 'y': 698174.9375, 'zoomlevel': 10}, 'id': 1645940, 'weight': 4}, {'attrs': {'detail': 'schlattingerstrasse 8254 basadingen 4536 basadingen-schlattingen ch tg', 'featureId': '190992351_0', 'geom_quadindex': '012232120112123312020', 'geom_st_box2d': 'BOX(699075.148448256 280908.4002873884,699075.148448256 280908.4002873884)', 'label': 'Schlattingerstrasse  <b>8254 Basadingen</b>', 'lat': 47.67131423950195, 'lon': 8.757856369018555, 'num': 0, 'objectclass': '', 'origin': 'address', 'rank': 7, 'x': 280908.40625, 'y': 699075.125, 'zoomlevel': 10}, 'id': 1667627, 'weight': 4}, {'attrs': {'detail': 'koenigshofweg 8254 basadingen 4536 basadingen-schlattingen ch tg', 'featureId': '400048556_0', 'geom_quadindex': '012232120120201110310', 'geom_st_box2d': 'BOX(698491.7778104998 280661.96760392474,698491.7778104998 280661.96760392474)', 'label': 'Königshofweg  <b>8254 Basadingen</b>', 'lat': 47.669185638427734, 'lon': 8.750035285949707, 'num': 0, 'objectclass': '', 'origin': 'address', 'rank': 7, 'x': 280661.96875, 'y': 698491.75, 'zoomlevel': 10}, 'id': 1783087, 'weight': 4}, {'attrs': {'detail': 'belzhalden 8254 basadingen 4536 basadingen-schlattingen ch tg', 'featureId': '652507_0', 'geom_quadindex': '012232122030120011201', 'geom_st_box2d': 'BOX(698097.6567482132 278845.4916119366,698097.6567482132 278845.4916119366)', 'label': 'Belzhalden  <b>8254 Basadingen</b>', 'lat': 47.65291213989258, 'lon': 8.744386672973633, 'num': 0, 'objectclass': '', 'origin': 'address', 'rank': 7, 'x': 278845.5, 'y': 698097.6875, 'zoomlevel': 10}, 'id': 1787122, 'weight': 4}, {'attrs': {'detail': 'mueliweg 8254 basadingen 4536 basadingen-schlattingen ch tg', 'featureId': '400048755_0', 'geom_quadindex': '012232120121302023112', 'geom_st_box2d': 'BOX(698795.8981071793 280623.10172463546,698795.8981071793 280623.10172463546)', 'label': 'Müliweg  <b>8254 Basadingen</b>', 'lat': 47.66878890991211, 'lon': 8.754075050354004, 'num': 0, 'objectclass': '', 'origin': 'address', 'rank': 7, 'x': 280623.09375, 'y': 698795.875, 'zoomlevel': 10}, 'id': 1787471, 'weight': 4}, {'attrs': {'detail': 'haldenacker 8254 basadingen 4536 basadingen-schlattingen ch tg', 'featureId': '400048588_0', 'geom_quadindex': '012232120000333202310', 'geom_st_box2d': 'BOX(697708.107401699 281024.518178607,697708.107401699 281024.518178607)', 'label': 'Haldenacker  <b>8254 Basadingen</b>', 'lat': 47.67256164550781, 'lon': 8.739683151245117, 'num': 0, 'objectclass': '', 'origin': 'address', 'rank': 7, 'x': 281024.53125, 'y': 697708.125, 'zoomlevel': 10}, 'id': 1791857, 'weight': 4}, {'attrs': {'detail': 'truellikerstrasse 8254 basadingen 4536 basadingen-schlattingen ch tg', 'featureId': '400047168_0', 'geom_quadindex': '012232120201321133132', 'geom_st_box2d': 'BOX(697909.5391378549 280124.0913553935,697909.5391378549 280124.0913553935)', 'label': 'Trüllikerstrasse  <b>8254 Basadingen</b>', 'lat': 47.66443634033203, 'lon': 8.742165565490723, 'num': 0, 'objectclass': '', 'origin': 'address', 'rank': 7, 'x': 280124.09375, 'y': 697909.5625, 'zoomlevel': 10}, 'id': 1792127, 'weight': 4}, {'attrs': {'detail': 'eugeschbueel 8254 basadingen 4536 basadingen-schlattingen ch tg', 'featureId': '400047671_0', 'geom_quadindex': '012232120300133303302', 'geom_st_box2d': 'BOX(698663.1574678965 280203.79009521013,698663.1574678965 280203.79009521013)', 'label': 'Eugeschbüel  <b>8254 Basadingen</b>', 'lat': 47.6650390625, 'lon': 8.752214431762695, 'num': 0, 'objectclass': '', 'origin': 'address', 'rank': 7, 'x': 280203.78125, 'y': 698663.1875, 'zoomlevel': 10}, 'id': 1793640, 'weight': 4}, {'attrs': {'detail': 'bachtele 8254 basadingen 4536 basadingen-schlattingen ch tg', 'featureId': '400048061_0', 'geom_quadindex': '012232120213233321011', 'geom_st_box2d': 'BOX(698310.7925636622 279851.017744451,698310.7925636622 279851.017744451)', 'label': 'Bachtele  <b>8254 Basadingen</b>', 'lat': 47.66191864013672, 'lon': 8.747446060180664, 'num': 0, 'objectclass': '', 'origin': 'address', 'rank': 7, 'x': 279851.03125, 'y': 698310.8125, 'zoomlevel': 10}, 'id': 1793941, 'weight': 4}, {'attrs': {'detail': 'ifang 8254 basadingen 4536 basadingen-schlattingen ch tg', 'featureId': '400048886_0', 'geom_quadindex': '012232102231221131030', 'geom_st_box2d': 'BOX(698259.0291461684 281534.64384821174,698259.0291461684 281534.64384821174)', 'label': 'Ifang  <b>8254 Basadingen</b>', 'lat': 47.677066802978516, 'lon': 8.74713134765625, 'num': 0, 'objectclass': '', 'origin': 'address', 'rank': 7, 'x': 281534.65625, 'y': 698259.0, 'zoomlevel': 10}, 'id': 1794043, 'weight': 4}, {'attrs': {'detail': 'alte schlattingerstrasse 8254 basadingen 4536 basadingen-schlattingen ch tg', 'featureId': '400048607_0', 'geom_quadindex': '012232120122010200302', 'geom_st_box2d': 'BOX(698498.3178600547 280529.74911444273,698498.3178600547 280529.74911444273)', 'label': 'Alte Schlattingerstrasse  <b>8254 Basadingen</b>', 'lat': 47.66799545288086, 'lon': 8.750093460083008, 'num': 0, 'objectclass': '', 'origin': 'address', 'rank': 7, 'x': 280529.75, 'y': 698498.3125, 'zoomlevel': 10}, 'id': 1799907, 'weight': 4}, {'attrs': {'detail': 'chimpetterebuck 8254 basadingen 4536 basadingen-schlattingen ch tg', 'featureId': '400047684_0', 'geom_quadindex': '012232122022002123222', 'geom_st_box2d': 'BOX(697518.5846623821 278628.31634604896,697518.5846623821 278628.31634604896)', 'label': 'Chimpetterebuck  <b>8254 Basadingen</b>', 'lat': 47.65104293823242, 'lon': 8.736632347106934, 'num': 0, 'objectclass': '', 'origin': 'address', 'rank': 7, 'x': 278628.3125, 'y': 697518.5625, 'zoomlevel': 10}, 'id': 1830631, 'weight': 4}, {'attrs': {'detail': 'brueggli 8254 basadingen 4536 basadingen-schlattingen ch tg', 'featureId': '400047498_0', 'geom_quadindex': '012232120202223010222', 'geom_st_box2d': 'BOX(697536.8212724476 279869.67206697824,697536.8212724476 279869.67206697824)', 'label': 'Brüggli  <b>8254 Basadingen</b>', 'lat': 47.66220474243164, 'lon': 8.73714828491211, 'num': 0, 'objectclass': '', 'origin': 'address', 'rank': 7, 'x': 279869.6875, 'y': 697536.8125, 'zoomlevel': 10}, 'id': 1830656, 'weight': 4}, {'attrs': {'detail': 'ziegeleiweg 8254 basadingen 4536 basadingen-schlattingen ch tg', 'featureId': '400058152_0', 'geom_quadindex': '012232120011102100010', 'geom_st_box2d': 'BOX(698336.0170409798 281220.348048013,698336.0170409798 281220.348048013)', 'label': 'Ziegeleiweg  <b>8254 Basadingen</b>', 'lat': 47.67422866821289, 'lon': 8.748085975646973, 'num': 0, 'objectclass': '', 'origin': 'address', 'rank': 7, 'x': 281220.34375, 'y': 698336.0, 'zoomlevel': 10}, 'id': 1830847, 'weight': 4}, {'attrs': {'detail': 'hueerbueel 8254 basadingen 4536 basadingen-schlattingen ch tg', 'featureId': '400047844_0', 'geom_quadindex': '012232031103113333131', 'geom_st_box2d': 'BOX(697031.0445332895 280959.4234847166,697031.0445332895 280959.4234847166)', 'label': 'Hüerbüel  <b>8254 Basadingen</b>', 'lat': 47.67207717895508, 'lon': 8.730655670166016, 'num': 0, 'objectclass': '', 'origin': 'address', 'rank': 7, 'x': 280959.4375, 'y': 697031.0625, 'zoomlevel': 10}, 'id': 1835041, 'weight': 4}, {'attrs': {'detail': 'muellerswies 8254 basadingen 4536 basadingen-schlattingen ch tg', 'featureId': '652506_0', 'geom_quadindex': '012232120233210203203', 'geom_st_box2d': 'BOX(698266.0163859325 279471.19430364034,698266.0163859325 279471.19430364034)', 'label': 'Müllerswies  <b>8254 Basadingen</b>', 'lat': 47.658512115478516, 'lon': 8.746766090393066, 'num': 0, 'objectclass': '', 'origin': 'address', 'rank': 7, 'x': 279471.1875, 'y': 698266.0, 'zoomlevel': 10}, 'id': 1885108, 'weight': 4}, {'attrs': {'detail': 'lettenackerweg 8254 basadingen 4536 basadingen-schlattingen ch tg', 'featureId': '191448074_0', 'geom_quadindex': '012232120033023130133', 'geom_st_box2d': 'BOX(698257.9998407316 280449.9997888174,698257.9998407316 280449.9997888174)', 'label': 'Lettenackerweg  <b>8254 Basadingen</b>', 'lat': 47.66731262207031, 'lon': 8.74687671661377, 'num': 0, 'objectclass': '', 'origin': 'address', 'rank': 7, 'x': 280450.0, 'y': 698258.0, 'zoomlevel': 10}, 'id': 1953458, 'weight': 4}, {'attrs': {'detail': 'geisslibachstrasse 8254 basadingen 4536 basadingen-schlattingen ch tg', 'featureId': '191968207_0', 'geom_quadindex': '012232120131220210121', 'geom_st_box2d': 'BOX(699150.3772999856 280589.81030192843,699150.3772999856 280589.81030192843)', 'label': 'Geisslibachstrasse  <b>8254 Basadingen</b>', 'lat': 47.66843795776367, 'lon': 8.758787155151367, 'num': 0, 'objectclass': '', 'origin': 'address', 'rank': 7, 'x': 280589.8125, 'y': 699150.375, 'zoomlevel': 10}, 'id': 2825590, 'weight': 4}, {'attrs': {'detail': 'pfyffergaessli 1 8219 trasadingen 2973 trasadingen ch sh', 'featureId': '484537_0', 'geom_quadindex': '012222131310221333130', 'geom_st_box2d': 'BOX(674589.0196249227 280110.08081641875,674589.0196249227 280110.08081641875)', 'label': 'Pfyffergässli 1 <b>8219 Trasadingen</b>', 'lat': 47.667381286621094, 'lon': 8.431721687316895, 'num': 1, 'objectclass': '', 'origin': 'address', 'rank': 7, 'x': 280110.09375, 'y': 674589.0, 'zoomlevel': 10}, 'id': 269211, 'weight': 4}, {'attrs': {'detail': 'hirschgass 1 8219 trasadingen 2973 trasadingen ch sh', 'featureId': '484574_0', 'geom_quadindex': '012222131310021122123', 'geom_st_box2d': 'BOX(674577.5468984125 280241.4305213037,674577.5468984125 280241.4305213037)', 'label': 'Hirschgass 1 <b>8219 Trasadingen</b>', 'lat': 47.66856384277344, 'lon': 8.431591033935547, 'num': 1, 'objectclass': '', 'origin': 'address', 'rank': 7, 'x': 280241.4375, 'y': 674577.5625, 'zoomlevel': 10}, 'id': 276116, 'weight': 4}, {'attrs': {'detail': 'bruedergass 1 8219 trasadingen 2973 trasadingen ch sh', 'featureId': '484579_0', 'geom_quadindex': '012222131301113202223', 'geom_st_box2d': 'BOX(674502.4807657136 280261.4137878035,674502.4807657136 280261.4137878035)', 'label': 'Bruedergass 1 <b>8219 Trasadingen</b>', 'lat': 47.66875076293945, 'lon': 8.430595397949219, 'num': 1, 'objectclass': '', 'origin': 'address', 'rank': 7, 'x': 280261.40625, 'y': 674502.5, 'zoomlevel': 10}, 'id': 276119, 'weight': 4}, {'attrs': {'detail': 'gaessli 1 8219 trasadingen 2973 trasadingen ch sh', 'featureId': '484466_0', 'geom_quadindex': '012222131301300022102', 'geom_st_box2d': 'BOX(674416.3581347574 280183.76898093615,674416.3581347574 280183.76898093615)', 'label': 'Gässli 1 <b>8219 Trasadingen</b>', 'lat': 47.668060302734375, 'lon': 8.429435729980469, 'num': 1, 'objectclass': '', 'origin': 'address', 'rank': 7, 'x': 280183.78125, 'y': 674416.375, 'zoomlevel': 10}, 'id': 276258, 'weight': 4}]}\n"
     ]
    },
    {
     "data": {
      "text/plain": [
       "(47.01091766357422, 9.626932144165039)"
      ]
     },
     "execution_count": 9,
     "metadata": {},
     "output_type": "execute_result"
    }
   ],
   "source": [
    "def get_coordinates(address):\n",
    "    base_url= \"https://api3.geo.admin.ch/rest/services/api/SearchServer?\"\n",
    "    parameters = {\"searchText\": address,\n",
    "                \"origins\": \"address\",\n",
    "                \"type\": \"locations\",\n",
    "                }\n",
    "    r = requests.get(f\"{base_url}{urllib.parse.urlencode(parameters)}\")\n",
    "    data = json.loads(r.content)\n",
    "    print(data)\n",
    "    if data['results'] == [] or len(data['results']) == 0:\n",
    "        return None, True\n",
    "    try:\n",
    "        Latitude = data['results'][0]['attrs']['lat']\n",
    "        Longitude = data['results'][0]['attrs']['lon']\n",
    "    except:\n",
    "        return None, None\n",
    "    return Latitude, Longitude  # return a tuple\n",
    "\n",
    "coordinates = get_coordinates(input(\"Enter the address: \"))\n",
    "coordinates"
   ]
  },
  {
   "cell_type": "code",
   "execution_count": 20,
   "metadata": {},
   "outputs": [
    {
     "name": "stdout",
     "output_type": "stream",
     "text": [
      "None None\n"
     ]
    }
   ],
   "source": [
    "url = \"http://transport.opendata.ch/v1/locations\"\n",
    "params = {\n",
    "    'type': 'station',\n",
    "    'query': \"Illnau-Effretikon\"\n",
    "}\n",
    "data = requests.get(url, params=params).json()\n",
    "station_lat = data[\"stations\"][0][\"coordinate\"][\"x\"]\n",
    "station_lon = data[\"stations\"][0][\"coordinate\"][\"y\"]\n",
    "print(station_lat, station_lon)"
   ]
  },
  {
   "cell_type": "code",
   "execution_count": 10,
   "metadata": {},
   "outputs": [],
   "source": [
    "def get_distance_to_station(Latitude, Longitude):\n",
    "    \"\"\"\n",
    "    This function determines the closesd trainstation based on the input coordinates and returns the distance between the given Point and the nearest station.\n",
    "    NOTICE: Assumes that the input Points are in WGS84 projection (lat/lon).\n",
    "    \"\"\"\n",
    "    url = \"https://nominatim.openstreetmap.org/reverse\"\n",
    "    params = {\n",
    "        'format': 'json',\n",
    "        'lat': Latitude,\n",
    "        'lon': Longitude,\n",
    "        'zoom': 18,\n",
    "        'addressdetails': 1\n",
    "    }\n",
    "    response = requests.get(url, params=params)\n",
    "    data = response.json()\n",
    "    if 'address' in data and 'town' in data['address']:\n",
    "        Town = data['address']['town']\n",
    "    elif 'address' in data and 'city' in data['address']:\n",
    "        Town = data['address']['city']\n",
    "    else:\n",
    "        return \"No town found\"\n",
    "    \n",
    "    url = \"http://transport.opendata.ch/v1/locations\"\n",
    "    params = {\n",
    "        'type': 'station',\n",
    "        'query': Town\n",
    "    }\n",
    "    data = requests.get(url, params=params).json()\n",
    "    station_lat = data[\"stations\"][0][\"coordinate\"][\"x\"]\n",
    "    station_lon = data[\"stations\"][0][\"coordinate\"][\"y\"]\n",
    "\n",
    "    # Calculate the distance between the two points with pythagoras\n",
    "    # Can not apply pythagoras directly, because the earth is not flat\n",
    "    # Convert latitude and longitude to radians\n",
    "    lat1, lon1, lat2, lon2 = map(radians, [Latitude, Longitude, station_lat, station_lon])\n",
    "    \n",
    "    # Haversine formula\n",
    "    dlon = lon2 - lon1\n",
    "    dlat = lat2 - lat1\n",
    "    a = sin(dlat/2)**2 + cos(lat1) * cos(lat2) * sin(dlon/2)**2\n",
    "    c = 2 * atan2(sqrt(a), sqrt(1-a))\n",
    "    radius_of_earth_km = 6371.0\n",
    "    distance = radius_of_earth_km * c\n",
    "\n",
    "    return distance"
   ]
  },
  {
   "cell_type": "code",
   "execution_count": 11,
   "metadata": {},
   "outputs": [
    {
     "data": {
      "text/plain": [
       "0.5315999788317988"
      ]
     },
     "execution_count": 11,
     "metadata": {},
     "output_type": "execute_result"
    }
   ],
   "source": [
    "get_distance_to_station(47.42974853515625, 8.682671546936035)"
   ]
  },
  {
   "cell_type": "markdown",
   "metadata": {},
   "source": [
    "Since the earth is not flat, the Pythagorean theorem would not be accurate for calculating distances between geographical coordinates. The Haversine formula or other spherical geometry methods are more appropriate for that purpose.\n",
    "\n",
    "\n",
    "![Image description](resources\\Haversine.png)\n",
    "\n",
    "[Image Source](https://www.google.com/imgres?imgurl=https%3A%2F%2Fwww.vcalc.com%2Fattachments%2Fe6d11679-da27-11e2-8e97-bc764e04d25f%2F220px-Law-of-haversines.svg.png&tbnid=IWPxBR6bJWrqlM&vet=12ahUKEwjcuMO1-JmFAxU9kP0HHZ3sBuoQMygQegQIARBu..i&imgrefurl=https%3A%2F%2Fwww.vcalc.com%2Fwiki%2Fvcalc%2Fhaversine-distance&docid=MOeiC0D7gb9SqM&w=220&h=220&q=Haversine%20formula&ved=2ahUKEwjcuMO1-JmFAxU9kP0HHZ3sBuoQMygQegQIARBu)"
   ]
  },
  {
   "cell_type": "code",
   "execution_count": 12,
   "metadata": {},
   "outputs": [
    {
     "data": {
      "text/plain": [
       "'No town found'"
      ]
     },
     "execution_count": 12,
     "metadata": {},
     "output_type": "execute_result"
    }
   ],
   "source": [
    "get_distance_to_station(coordinates[0], coordinates[1])"
   ]
  },
  {
   "cell_type": "code",
   "execution_count": null,
   "metadata": {},
   "outputs": [],
   "source": []
  }
 ],
 "metadata": {
  "kernelspec": {
   "display_name": "adsenv",
   "language": "python",
   "name": "python3"
  },
  "language_info": {
   "codemirror_mode": {
    "name": "ipython",
    "version": 3
   },
   "file_extension": ".py",
   "mimetype": "text/x-python",
   "name": "python",
   "nbconvert_exporter": "python",
   "pygments_lexer": "ipython3",
   "version": "3.11.7"
  }
 },
 "nbformat": 4,
 "nbformat_minor": 2
}
