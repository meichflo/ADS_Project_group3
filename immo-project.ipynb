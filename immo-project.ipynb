{
 "cells": [
  {
   "cell_type": "code",
   "execution_count": 7,
   "metadata": {},
   "outputs": [
    {
     "name": "stdout",
     "output_type": "stream",
     "text": [
      "Current working directory: c:\\Users\\FMeic\\data_science\\ADS_Project_group3\n"
     ]
    }
   ],
   "source": [
    "# Libraries\n",
    "import os\n",
    "import re\n",
    "import json\n",
    "import time\n",
    "import random\n",
    "import pandas as pd\n",
    "\n",
    "from bs4 import BeautifulSoup\n",
    "\n",
    "from prettytable import from_csv\n",
    "\n",
    "import seaborn as sns\n",
    "import matplotlib.pyplot as plt\n",
    "import matplotlib.image as mpimg\n",
    "\n",
    "from selenium import webdriver\n",
    "from selenium.webdriver.common.by import By\n",
    "from selenium.webdriver.common.keys import Keys\n",
    "from selenium.webdriver.chrome.options import Options\n",
    "from selenium.webdriver.chrome.service import Service\n",
    "from selenium.webdriver.support.ui import WebDriverWait\n",
    "from webdriver_manager.chrome import ChromeDriverManager\n",
    "from selenium.webdriver.support import expected_conditions as EC\n",
    "\n",
    "# Settings\n",
    "import warnings\n",
    "warnings.filterwarnings(\"ignore\")\n",
    "\n",
    "# Current working directory\n",
    "print(f'Current working directory: {os.getcwd()}')"
   ]
  },
  {
   "cell_type": "code",
   "execution_count": 10,
   "metadata": {},
   "outputs": [
    {
     "name": "stdout",
     "output_type": "stream",
     "text": [
      "+------+------+-------+---------+\n",
      "| Page | Type | Price | Weblink |\n",
      "+------+------+-------+---------+\n",
      "+------+------+-------+---------+\n"
     ]
    }
   ],
   "source": [
    "# Set options for Chrome-Driver (headless mode)\n",
    "opts = Options()\n",
    "#opts.add_argument(\"--headless\")\n",
    "#opts.add_argument(\"user-agent=\" + random.choice(ua_list))\n",
    "service = Service(executable_path=r'C:\\Tools\\chromedriver\\chromedriver.exe')\n",
    "driver = webdriver.Chrome(service=service, options=opts)\n",
    "# Chrome-Driver\n",
    "driver = webdriver.Chrome(service=service, options=opts)\n",
    "\n",
    "# Website to scrape\n",
    "url = 'https://www.immoscout24.ch/de/immobilien/mieten/kanton-zuerich?pn=1'\n",
    "driver.get(url)\n",
    "\n",
    "# Get webpage number from url\n",
    "pattern = r'=(.*)'\n",
    "page = re.search(pattern, url)\n",
    "\n",
    "# Get the full content of the website\n",
    "source = driver.page_source\n",
    "\n",
    "# Close driver\n",
    "driver.close()\n",
    "\n",
    "# Parse HTML content with BeautifulSoup\n",
    "soup = BeautifulSoup(source, 'html.parser')\n",
    "\n",
    "# Get links\n",
    "links = []\n",
    "link_elements = soup.find_all(class_='css-qqdlpa')\n",
    "for element in link_elements:\n",
    "    links.append('https://www.autoscout24.ch' + element['href'])\n",
    "\n",
    "# Get types\n",
    "types_elements = soup.find_all(class_='chakra-heading css-svmyrf')\n",
    "types = [element.text for element in types_elements]\n",
    "\n",
    "# Get prices\n",
    "prices_elements = soup.find_all(class_='chakra-text css-bwl0or')\n",
    "prices = [element.text for element in prices_elements]\n",
    "\n",
    "# Dataframe\n",
    "df = pd.DataFrame({ 'Page': page.group(1),\n",
    "                    'Type': types,\n",
    "                    'Price': prices,\n",
    "                    'Weblink': links})\n",
    "\n",
    "# Save to file\n",
    "df.to_csv('autoscout24.csv', sep=\";\", index=False)\n",
    "\n",
    "# Show file\n",
    "with open('autoscout24.csv') as table_file:\n",
    "    tab = from_csv(table_file, delimiter=';')\n",
    "    \n",
    "    # Set the alignment for all columns to 'l' (left-align)\n",
    "    for field_name in tab.field_names:\n",
    "        tab.align[field_name] = 'l'\n",
    "    \n",
    "    print(tab)"
   ]
  },
  {
   "cell_type": "code",
   "execution_count": 1,
   "metadata": {},
   "outputs": [
    {
     "name": "stdout",
     "output_type": "stream",
     "text": [
      "hi\n"
     ]
    }
   ],
   "source": [
    "print(\"hi\")"
   ]
  }
 ],
 "metadata": {
  "kernelspec": {
   "display_name": "adsenv",
   "language": "python",
   "name": "python3"
  },
  "language_info": {
   "codemirror_mode": {
    "name": "ipython",
    "version": 3
   },
   "file_extension": ".py",
   "mimetype": "text/x-python",
   "name": "python",
   "nbconvert_exporter": "python",
   "pygments_lexer": "ipython3",
   "version": "3.9.6"
  }
 },
 "nbformat": 4,
 "nbformat_minor": 2
}
