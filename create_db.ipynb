{
 "cells": [
  {
   "cell_type": "markdown",
   "metadata": {},
   "source": [
    "#### quick Docker Befehle Guideline\n",
    "\n",
    "```python\n",
    "docker ps # Listet alle Container auf die im Moment gestartet sind\n",
    "docker ps –a #Listet alle Container auf\n",
    "docker run --name container_name image_name # Startet einen neuen Container \"container_name\" mit \"image_name\"\n",
    "docker stop container_name # Stoppt den Container \"container_name\"\n",
    "docker rm –f container_name # Löscht den Container \"container_name\", samt den Daten\n",
    "docker images # Listet alle Images auf, die im Moment zur Verfügung stehen. Wie ein App-Store für Software-Entwicklung\n",
    "```\n",
    "\n",
    "# Installation der Docker DB\n",
    "Hier eine Anleitung zur lokalen Installation der MySQL Datenbank aus dem Terminal. Die folgenden Zellen unten machen das aber schon direkt für dich.\n",
    "1.\tImage holen\n",
    "    1. docker pull mysql\n",
    "2.\tContainer starten:\n",
    "    1. docker run --name mysql --publish 3306:3306 -e MYSQL_ROOT_PASSWORD=password -d mysql\n",
    "3.\tDatenbank verbinden:\n",
    "    1. docker exec -ti mysql mysql -uroot -ppassword  \n",
    "\n",
    "Nun läuft die mysql db und der Docker Container ist quasi der Server davon.  \n",
    "d.h. hier können Queries abgesetzt werden.\n",
    "-\tProbiere Query: \n",
    "    - mysql> SHOW DATABASES;\n",
    "-\tUm SQL zu verlassen: exit"
   ]
  },
  {
   "cell_type": "code",
   "execution_count": 4,
   "metadata": {},
   "outputs": [
    {
     "name": "stdout",
     "output_type": "stream",
     "text": [
      "Using default tag: latest\n",
      "latest: Pulling from library/mysql\n",
      "Digest: sha256:9d1c923e5f66a89607285ee2641f8a53430a1ccd5e4a62b35eb8a48b74b9ff48\n",
      "Status: Image is up to date for mysql:latest\n",
      "docker.io/library/mysql:latest\n"
     ]
    },
    {
     "name": "stderr",
     "output_type": "stream",
     "text": [
      "\n",
      "What's Next?\n",
      "  View a summary of image vulnerabilities and recommendations → docker scout quickview mysql\n",
      "docker: Error response from daemon: Conflict. The container name \"/mysql\" is already in use by container \"b3fb98c0d600c186cda1d1da0b2518716eb8cb534f87a7d9e95bacd31e7ac40b\". You have to remove (or rename) that container to be able to reuse that name.\n",
      "See 'docker run --help'.\n"
     ]
    }
   ],
   "source": [
    "# this runs the installation in docker and run mysql container in your terminal\n",
    "!docker pull mysql\n",
    "!docker run --name mysql --publish 3306:3306 -e MYSQL_ROOT_PASSWORD=password -d mysql"
   ]
  },
  {
   "cell_type": "markdown",
   "metadata": {},
   "source": [
    "# Installation für Python:\n",
    "Damit Python mit MySQL funktioniert, muss folgendes Installiert werden. Die Zellen unten machen das für dich.\n",
    "- pip install pymysql\n",
    "- pip install mysql-connector-python\n",
    "- pip install cryptography\n",
    "\n",
    "> Installation im richtigen Enviroment!"
   ]
  },
  {
   "cell_type": "code",
   "execution_count": 7,
   "metadata": {},
   "outputs": [
    {
     "name": "stdout",
     "output_type": "stream",
     "text": [
      "Requirement already satisfied: pymysql in c:\\users\\fmeic\\anaconda3\\envs\\adsenv\\lib\\site-packages (1.1.0)\n",
      "Note: you may need to restart the kernel to use updated packages.\n",
      "Requirement already satisfied: mysql-connector-python in c:\\users\\fmeic\\anaconda3\\envs\\adsenv\\lib\\site-packages (8.3.0)\n",
      "Note: you may need to restart the kernel to use updated packages.\n",
      "Requirement already satisfied: cryptography in c:\\users\\fmeic\\anaconda3\\envs\\adsenv\\lib\\site-packages (42.0.5)\n",
      "Requirement already satisfied: cffi>=1.12 in c:\\users\\fmeic\\anaconda3\\envs\\adsenv\\lib\\site-packages (from cryptography) (1.15.1)\n",
      "Requirement already satisfied: pycparser in c:\\users\\fmeic\\anaconda3\\envs\\adsenv\\lib\\site-packages (from cffi>=1.12->cryptography) (2.21)\n",
      "Note: you may need to restart the kernel to use updated packages.\n"
     ]
    }
   ],
   "source": [
    "%pip install pymysql\n",
    "%pip install mysql-connector-python\n",
    "%pip install cryptography"
   ]
  },
  {
   "cell_type": "markdown",
   "metadata": {},
   "source": [
    "# Datenbank bauen:\n",
    "In den folgenden Zellen wird die Datenbank gebaut. "
   ]
  },
  {
   "cell_type": "code",
   "execution_count": 14,
   "metadata": {},
   "outputs": [
    {
     "name": "stdout",
     "output_type": "stream",
     "text": [
      "('immoDB',)\n",
      "('information_schema',)\n",
      "('mysql',)\n",
      "('performance_schema',)\n",
      "('sys',)\n"
     ]
    }
   ],
   "source": [
    "#imports:\n",
    "import csv\n",
    "import os\n",
    "import pymysql\n",
    "\n",
    "#connect to mysql:\n",
    "connection = pymysql.connect(\n",
    "    host=\"localhost\",\n",
    "    port=3306, \n",
    "    user=\"root\", \n",
    "    password=\"password\", \n",
    "    charset='utf8',\n",
    ")\n",
    "\n",
    "#create a cursor and execute a query:\n",
    "cursor = connection.cursor()\n",
    "cursor.execute('SHOW DATABASES;') \n",
    "for row in cursor.fetchall():\n",
    "    print(row)"
   ]
  },
  {
   "cell_type": "code",
   "execution_count": 12,
   "metadata": {},
   "outputs": [
    {
     "data": {
      "text/plain": [
       "<bound method Connection.close of <pymysql.connections.Connection object at 0x0000016643C8DC50>>"
      ]
     },
     "execution_count": 12,
     "metadata": {},
     "output_type": "execute_result"
    }
   ],
   "source": [
    "#init the database:\n",
    "cursor_create = connection.cursor()\n",
    "cursor_create.execute(\"CREATE DATABASE IF NOT EXISTS immoDB;\")\n",
    "connection.commit()\n",
    "connection.close"
   ]
  },
  {
   "cell_type": "code",
   "execution_count": null,
   "metadata": {},
   "outputs": [
    {
     "data": {
      "text/plain": [
       "<bound method Connection.close of <pymysql.connections.Connection object at 0x0000016643ABE610>>"
      ]
     },
     "execution_count": 16,
     "metadata": {},
     "output_type": "execute_result"
    }
   ],
   "source": [
    "cursor = connection.cursor()\n",
    "cursor.execute(\"USE immoDB;\")\n",
    "cursor.execute(\"\"\"\n",
    "CREATE TABLE IF NOT EXISTS Properties (\n",
    "    id INT AUTO_INCREMENT PRIMARY KEY,\n",
    "    date_scraped DATE,\n",
    "    num_rooms FLOAT,\n",
    "    area_size FLOAT,\n",
    "    price FLOAT,\n",
    "    address VARCHAR(255),\n",
    "    title VARCHAR(255),\n",
    "    ad_text TEXT\n",
    ");\n",
    "\"\"\")\n",
    "connection.commit()\n",
    "connection.close"
   ]
  },
  {
   "cell_type": "code",
   "execution_count": 17,
   "metadata": {},
   "outputs": [
    {
     "name": "stdout",
     "output_type": "stream",
     "text": [
      "('Properties',)\n"
     ]
    }
   ],
   "source": [
    "cursor = connection.cursor()\n",
    "cursor.execute(\"SHOW TABLES;\")\n",
    "for table in cursor:\n",
    "    print(table)"
   ]
  },
  {
   "cell_type": "code",
   "execution_count": 20,
   "metadata": {},
   "outputs": [
    {
     "name": "stdout",
     "output_type": "stream",
     "text": [
      "('id', 'int', 'NO', 'PRI', None, 'auto_increment')\n",
      "('date_scrapped', 'date', 'YES', '', None, '')\n",
      "('num_rooms', 'float', 'YES', '', None, '')\n",
      "('area_size', 'float', 'YES', '', None, '')\n",
      "('price', 'float', 'YES', '', None, '')\n",
      "('address', 'varchar(255)', 'YES', '', None, '')\n",
      "('title', 'varchar(255)', 'YES', '', None, '')\n",
      "('ad_text', 'text', 'YES', '', None, '')\n"
     ]
    }
   ],
   "source": [
    "cursor.execute(\"DESCRIBE Properties;\")\n",
    "for column in cursor:\n",
    "    print(column)"
   ]
  },
  {
   "cell_type": "markdown",
   "metadata": {},
   "source": [
    "# Stop Docker\n",
    "Folgende Zeile auskommentieren, um den MySQL Container zu stopen:"
   ]
  },
  {
   "cell_type": "code",
   "execution_count": null,
   "metadata": {},
   "outputs": [],
   "source": [
    "#!docker stop mysql"
   ]
  },
  {
   "cell_type": "markdown",
   "metadata": {},
   "source": [
    "### Jupyter notebook --footer info--"
   ]
  },
  {
   "cell_type": "code",
   "execution_count": 11,
   "metadata": {},
   "outputs": [
    {
     "name": "stdout",
     "output_type": "stream",
     "text": [
      "-----------------------------------\n",
      "NT\n",
      "Windows | 10\n",
      "Datetime: 2024-03-23 14:38:41\n",
      "Python Version: 3.11.7\n",
      "-----------------------------------\n"
     ]
    }
   ],
   "source": [
    "import os\n",
    "import platform\n",
    "import socket\n",
    "from platform import python_version\n",
    "from datetime import datetime\n",
    "\n",
    "print('-----------------------------------')\n",
    "print(os.name.upper())\n",
    "print(platform.system(), '|', platform.release())\n",
    "print('Datetime:', datetime.now().strftime(\"%Y-%m-%d %H:%M:%S\"))\n",
    "print('Python Version:', python_version())\n",
    "print('-----------------------------------')"
   ]
  }
 ],
 "metadata": {
  "kernelspec": {
   "display_name": "Python 3",
   "language": "python",
   "name": "python3"
  },
  "language_info": {
   "codemirror_mode": {
    "name": "ipython",
    "version": 3
   },
   "file_extension": ".py",
   "mimetype": "text/x-python",
   "name": "python",
   "nbconvert_exporter": "python",
   "pygments_lexer": "ipython3",
   "version": "3.11.7"
  }
 },
 "nbformat": 4,
 "nbformat_minor": 2
}
